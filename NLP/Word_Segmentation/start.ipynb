{
 "cells": [
  {
   "cell_type": "code",
   "execution_count": 1,
   "metadata": {},
   "outputs": [],
   "source": [
    "def transfer(raw_sen):\n",
    "    count = 0\n",
    "    tmp_list = []\n",
    "    for ele in raw_sen.strip().split(' '):\n",
    "        _tmp_list = []\n",
    "        for _ in range(len(ele)):\n",
    "            _tmp_list.append(count)\n",
    "            count += 1\n",
    "        tmp_list.append(str(_tmp_list).replace(' ', ''))\n",
    "    return ' '.join(tmp_list)"
   ]
  },
  {
   "cell_type": "code",
   "execution_count": 2,
   "metadata": {},
   "outputs": [],
   "source": [
    "result=[]\n",
    "n=1\n",
    "for line in open('./test.txt',encoding=\"utf-8\"):\n",
    "    result.append([transfer(line)])\n",
    "    n+=1"
   ]
  },
  {
   "cell_type": "code",
   "execution_count": 4,
   "metadata": {},
   "outputs": [],
   "source": [
    "import csv\n",
    "csvFile = open(\"./sample.csv\", \"w\",newline='')\n",
    "writer = csv.writer(csvFile)\n",
    "for item in result:\n",
    "    writer.writerow(item)\n",
    "csvFile.close()"
   ]
  },
  {
   "cell_type": "code",
   "execution_count": 7,
   "metadata": {},
   "outputs": [
    {
     "name": "stdout",
     "output_type": "stream",
     "text": [
      "93.06427033162335\n"
     ]
    }
   ],
   "source": [
    "import csv\n",
    "csvFile = open(\"result.csv\", encoding='utf-8',)\n",
    "reader = csv.reader(csvFile)\n",
    "lst = []\n",
    "for item in reader:\n",
    "    # 忽略第一行\n",
    "    if reader.line_num == 1:\n",
    "        continue\n",
    "    lst.append(item[1])\n",
    "csvFile.close()\n",
    "n=0\n",
    "f1=0\n",
    "for line in open('./sample.csv',encoding=\"utf-8\"):\n",
    "    A=lst[n].split(' ')\n",
    "    B=[]\n",
    "    B+=line.strip('\"\\n').split(' ')\n",
    "    A=set(A)\n",
    "    B=set(B)     \n",
    "    A_size = len(A)\n",
    "    B_size = len(B)\n",
    "    A_cap_B_size = len(A & B)\n",
    "    p, r = A_cap_B_size / B_size * 100, A_cap_B_size / A_size * 100\n",
    "    if p+r==0:\n",
    "        f1+=0\n",
    "    else:        \n",
    "        f1+=2 * p * r / (p + r)\n",
    "    n+=1\n",
    "print(f1/n)"
   ]
  },
  {
   "cell_type": "code",
   "execution_count": 8,
   "metadata": {},
   "outputs": [
    {
     "data": {
      "text/plain": [
       "6"
      ]
     },
     "execution_count": 8,
     "metadata": {},
     "output_type": "execute_result"
    }
   ],
   "source": [
    "a=[1,2,3]\n",
    "sum(a)"
   ]
  },
  {
   "cell_type": "code",
   "execution_count": null,
   "metadata": {},
   "outputs": [],
   "source": []
  }
 ],
 "metadata": {
  "interpreter": {
   "hash": "dc27602090462304dd3f86372efd19e69b7030eadfbaca8857bfdb0924f069a2"
  },
  "kernelspec": {
   "display_name": "Python 3.8.5 ('szh')",
   "language": "python",
   "name": "python3"
  },
  "language_info": {
   "codemirror_mode": {
    "name": "ipython",
    "version": 3
   },
   "file_extension": ".py",
   "mimetype": "text/x-python",
   "name": "python",
   "nbconvert_exporter": "python",
   "pygments_lexer": "ipython3",
   "version": "3.8.5"
  },
  "orig_nbformat": 4
 },
 "nbformat": 4,
 "nbformat_minor": 2
}
