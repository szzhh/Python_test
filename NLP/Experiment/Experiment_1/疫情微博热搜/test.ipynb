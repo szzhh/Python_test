{
 "cells": [
  {
   "cell_type": "code",
   "execution_count": 23,
   "metadata": {},
   "outputs": [
    {
     "name": "stdout",
     "output_type": "stream",
     "text": [
      "的 6\n",
      "出现 3\n",
      "次数 3\n",
      "输出 3\n",
      "将 2\n"
     ]
    }
   ],
   "source": [
    "from collections import Counter\n",
    "import jieba\n",
    "import re\n",
    "s='针对微博数据中的主题为“疫情”的微博，对其“热搜内容”进行分词，计算词出现的次数，将出现次数前20名的动词输出，将出现次数前20名的名词输出，并采用“词云”可视化输出（可以定义多个时间段，看舆情的变化）'\n",
    "sent=re.sub('[^0-9A-Za-z\\u4e00-\\u9fa5]', '', s)\n",
    "lst=jieba.lcut(sent)\n",
    "d=dict(Counter(lst))\n",
    "result=sorted(d.items(), key=lambda d:d[1],reverse = True)\n",
    "for i in range(5):\n",
    "    print(result[i][0],result[i][1])\n"
   ]
  },
  {
   "cell_type": "code",
   "execution_count": null,
   "metadata": {},
   "outputs": [],
   "source": [
    "import jieba\n",
    "import re\n",
    "s='KN95口罩金银潭医院院长真实故事改编漫画90后女孩建群为医生搭驿站发改委专家 人口流动是SARS时6倍方舱医院患者跳萨日朗WHO12专家先遣队抵达中国急救中心司机穿尿不湿接患者钟南山为有体力工作坚持健身郑州富士康方舱医院医生感慨医患关系回来了威斯特丹号全员检测阴性山东省司法厅厅长被免职火神山周琪 针对微博数据中的主题为“疫情”的微博，对其“热搜内容”进行分词，计算词出现的次数，将出现次数前20名的动词输出，将出现次数前20名的名词输出，并采用“词云”可视化输出（可以定义多个时间段，看舆情的变化）'\n",
    "s=re.sub('[^0-9A-Za-z\\u4e00-\\u9fa5]', '', s)\n",
    "jieba.load_userdict('./dict.txt')\n",
    "lst=jieba.lcut(s)\n",
    "lst"
   ]
  },
  {
   "cell_type": "code",
   "execution_count": null,
   "metadata": {},
   "outputs": [],
   "source": [
    "from collections import Counter\n",
    "import jieba\n",
    "import re\n",
    "lst_v=[]\n",
    "lst_n=[]\n",
    "for i in range(len(list(df_hour['主题']))):\n",
    "    if list(df_hour['主题'])[i][:2]=='疫情':\n",
    "        s=list(df_hour['热搜内容'])[i]\n",
    "        sent=re.sub('[^0-9A-Za-z\\u4e00-\\u9fa5]', '', s)\n",
    "        lst+=jieba.lcut(sent)\n",
    "d=dict(Counter(lst_v))\n",
    "result=sorted(d.items(), key=lambda d:d[1],reverse = True)\n",
    "for i in range(20):\n",
    "    print(result[i][0],result[i][1])"
   ]
  }
 ],
 "metadata": {
  "interpreter": {
   "hash": "07efdcd4b820c98a756949507a4d29d7862823915ec7477944641bea022f4f62"
  },
  "kernelspec": {
   "display_name": "Python 3.8.3 ('base')",
   "language": "python",
   "name": "python3"
  },
  "language_info": {
   "codemirror_mode": {
    "name": "ipython",
    "version": 3
   },
   "file_extension": ".py",
   "mimetype": "text/x-python",
   "name": "python",
   "nbconvert_exporter": "python",
   "pygments_lexer": "ipython3",
   "version": "3.8.5"
  },
  "orig_nbformat": 4
 },
 "nbformat": 4,
 "nbformat_minor": 2
}
