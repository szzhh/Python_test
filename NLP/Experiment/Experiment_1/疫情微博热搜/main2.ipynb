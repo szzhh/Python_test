{
 "cells": [
  {
   "cell_type": "code",
   "execution_count": 64,
   "metadata": {},
   "outputs": [
    {
     "name": "stdout",
     "output_type": "stream",
     "text": [
      "6272 (896, 7)\n"
     ]
    }
   ],
   "source": [
    "import pandas as pd\n",
    "# 导入数据\n",
    "df_hour = pd.read_csv(open(\"./data.csv\", encoding='utf8'), sep=',',dtype=str)\n",
    "df1 = df_hour.filter(like='钟南山', axis=0)\n",
    "print(df_hour.size, df_hour.shape)"
   ]
  },
  {
   "cell_type": "code",
   "execution_count": 65,
   "metadata": {},
   "outputs": [
    {
     "name": "stdout",
     "output_type": "stream",
     "text": [
      "[('疫情', 0.6738789266791666), ('硬核', 0.44025101571333336), ('省际', 0.35883944786666666), ('结婚登记', 0.3574207940533333), ('口罩', 0.29839725872), ('客运', 0.2762516515196667), ('地铁', 0.273341135953), ('闭馆', 0.213367756055), ('断路', 0.201815303045), ('道路', 0.200461488434), ('公共场合', 0.19505755124333335), ('分会场', 0.18654379084833334), ('总医院', 0.17674734643333334), ('家宴', 0.16750883417166668), ('婚姻登记', 0.1664775774425), ('挖掘机', 0.16262571542633333), ('公路交通', 0.15928120383533334), ('班车', 0.156867354704), ('通告', 0.151610943454), ('不力', 0.14980037943733335)]\n"
     ]
    }
   ],
   "source": [
    "import jieba\n",
    "import jieba.analyse\n",
    "import re\n",
    "\n",
    "lst=[]\n",
    "for i in range(600,len(list(df_hour['主题']))):\n",
    "    if list(df_hour['主题'])[i][:2]=='政府':\n",
    "        s=list(df_hour['热搜内容'])[i]\n",
    "        sent=re.sub('[^0-9A-Za-z\\u4e00-\\u9fa5]|\\d+例|\\d+口人', '', s)\n",
    "        lst+=sent\n",
    "ss=''.join(lst)\n",
    "jieba.load_userdict('./dict.txt')\n",
    "tags = jieba.analyse.extract_tags(ss,topK=20,withWeight=True,allowPOS=('n'))\n",
    "print(tags)"
   ]
  },
  {
   "cell_type": "code",
   "execution_count": 66,
   "metadata": {},
   "outputs": [
    {
     "data": {
      "text/plain": [
       "'c:\\\\Users\\\\szh\\\\Desktop\\\\szh\\\\Python_test\\\\NLP\\\\Experiment\\\\Experiment_1\\\\疫情微博热搜\\\\政府n_1.html'"
      ]
     },
     "execution_count": 66,
     "metadata": {},
     "output_type": "execute_result"
    }
   ],
   "source": [
    "import pyecharts.options as opts\n",
    "from pyecharts.charts import WordCloud\n",
    "\n",
    "(\n",
    "    WordCloud()\n",
    "    .add(series_name=\"政府n_1\", data_pair=tags, word_size_range=[25,80],width=1200,height=600)\n",
    "    .set_global_opts(\n",
    "        title_opts=opts.TitleOpts(\n",
    "            title=\"政府n_1\", title_textstyle_opts=opts.TextStyleOpts(font_size=40)\n",
    "        ),\n",
    "        tooltip_opts=opts.TooltipOpts(is_show=True),\n",
    "    )\n",
    "\n",
    "    .render(\"政府n_1.html\")\n",
    "    \n",
    ")"
   ]
  },
  {
   "cell_type": "code",
   "execution_count": 67,
   "metadata": {},
   "outputs": [
    {
     "name": "stdout",
     "output_type": "stream",
     "text": [
      "[('刑责', 1.0428652742416666), ('问责', 0.9962306252416666), ('包机', 0.9008029332166667), ('区委书记', 0.8275321448683334), ('感染者', 0.8244453722283334), ('不力', 0.7490018971866667), ('口罩', 0.7459931468000001), ('言论', 0.6454849631633334), ('病例', 0.6440814212133333), ('公民', 0.5789957506125), ('回家', 0.5160222487266667), ('问题', 0.3302927977566667)]\n"
     ]
    },
    {
     "data": {
      "text/plain": [
       "'c:\\\\Users\\\\szh\\\\Desktop\\\\szh\\\\Python_test\\\\NLP\\\\Experiment\\\\Experiment_1\\\\疫情微博热搜\\\\政府n_2.html'"
      ]
     },
     "execution_count": 67,
     "metadata": {},
     "output_type": "execute_result"
    }
   ],
   "source": [
    "lst=[]\n",
    "for i in range(400,600):\n",
    "    if list(df_hour['主题'])[i][:2]=='政府':\n",
    "        s=list(df_hour['热搜内容'])[i]\n",
    "        sent=re.sub('[^0-9A-Za-z\\u4e00-\\u9fa5]|\\d+例|\\d+口人|期间', '', s)\n",
    "        lst+=sent\n",
    "ss=''.join(lst)\n",
    "jieba.load_userdict('./dict.txt')\n",
    "tags = jieba.analyse.extract_tags(ss,topK=20,withWeight=True,allowPOS=('n'))\n",
    "print(tags)\n",
    "\n",
    "\n",
    "(\n",
    "    WordCloud()\n",
    "    .add(series_name=\"政府n_2\", data_pair=tags, word_size_range=[25,80],width=1200,height=600)\n",
    "    .set_global_opts(\n",
    "        title_opts=opts.TitleOpts(\n",
    "            title=\"政府n_2\", title_textstyle_opts=opts.TextStyleOpts(font_size=40)\n",
    "        ),\n",
    "        tooltip_opts=opts.TooltipOpts(is_show=True),\n",
    "    )\n",
    "\n",
    "    .render(\"政府n_2.html\")\n",
    "    \n",
    ")"
   ]
  },
  {
   "cell_type": "code",
   "execution_count": 68,
   "metadata": {},
   "outputs": [
    {
     "name": "stdout",
     "output_type": "stream",
     "text": [
      "[('新冠', 0.74717296893125), ('公职人员', 0.612895818109375), ('肺炎', 0.55198584061), ('财政', 0.3964502968975), ('硬任务', 0.384101241859375), ('保护法', 0.342382458525), ('个人', 0.336143620866875), ('官僚主义', 0.317594001053125), ('形式主义', 0.30394657444), ('胜任', 0.2911159429159375), ('口罩', 0.27974743005), ('房租', 0.27887324717375), ('副省长', 0.271770967653125), ('疫情', 0.2527045975046875), ('野生动物', 0.2493468510103125), ('整治', 0.2372112304296875), ('物资', 0.22469232945375), ('医疗', 0.2055264714303125), ('患者', 0.1983723614925), ('费用', 0.196325829815625)]\n"
     ]
    },
    {
     "data": {
      "text/plain": [
       "'c:\\\\Users\\\\szh\\\\Desktop\\\\szh\\\\Python_test\\\\NLP\\\\Experiment\\\\Experiment_1\\\\疫情微博热搜\\\\政府n_3.html'"
      ]
     },
     "execution_count": 68,
     "metadata": {},
     "output_type": "execute_result"
    }
   ],
   "source": [
    "lst=[]\n",
    "for i in range(200,400):\n",
    "    if list(df_hour['主题'])[i][:2]=='政府':\n",
    "        s=list(df_hour['热搜内容'])[i]\n",
    "        sent=re.sub('[^0-9A-Za-z\\u4e00-\\u9fa5]|\\d+例|期间', '', s)\n",
    "        lst+=sent\n",
    "ss=''.join(lst)\n",
    "jieba.load_userdict('./dict.txt')\n",
    "tags = jieba.analyse.extract_tags(ss,topK=20,withWeight=True,allowPOS=('n'))\n",
    "print(tags)\n",
    "\n",
    "\n",
    "(\n",
    "    WordCloud()\n",
    "    .add(series_name=\"政府n_3\", data_pair=tags, word_size_range=[25,80],width=1200,height=600)\n",
    "    .set_global_opts(\n",
    "        title_opts=opts.TitleOpts(\n",
    "            title=\"政府n_3\", title_textstyle_opts=opts.TextStyleOpts(font_size=40)\n",
    "        ),\n",
    "        tooltip_opts=opts.TooltipOpts(is_show=True),\n",
    "    )\n",
    "\n",
    "    .render(\"政府n_3.html\")\n",
    "    \n",
    ")"
   ]
  },
  {
   "cell_type": "code",
   "execution_count": 69,
   "metadata": {},
   "outputs": [
    {
     "name": "stdout",
     "output_type": "stream",
     "text": [
      "[('疫情', 0.5776105085821428), ('医护人员', 0.2723208514145714), ('不力', 0.256800650464), ('通报', 0.21804518195057143), ('社保费', 0.18867900673428573), ('评职称', 0.18867900673428573), ('网警', 0.18867900673428573), ('停职检查', 0.17298454546714287), ('慰问金', 0.17078239289857142), ('新冠', 0.17078239289857142), ('问责', 0.17078239289857142), ('新钞', 0.17078239289857142), ('英模', 0.16568703655714284), ('破格提拔', 0.16432546256), ('医护', 0.15318034030857142), ('因公', 0.14820453039142856), ('医务', 0.14484967909), ('禁食', 0.14484967909), ('基层干部', 0.14420021660285715), ('感染者', 0.141333492382)]\n"
     ]
    },
    {
     "data": {
      "text/plain": [
       "'c:\\\\Users\\\\szh\\\\Desktop\\\\szh\\\\Python_test\\\\NLP\\\\Experiment\\\\Experiment_1\\\\疫情微博热搜\\\\政府n_4.html'"
      ]
     },
     "execution_count": 69,
     "metadata": {},
     "output_type": "execute_result"
    }
   ],
   "source": [
    "lst=[]\n",
    "for i in range(0,200):\n",
    "    if list(df_hour['主题'])[i][:2]=='政府':\n",
    "        s=list(df_hour['热搜内容'])[i]\n",
    "        sent=re.sub('[^0-9A-Za-z\\u4e00-\\u9fa5]|\\d+例|\\d+口人|派车', '', s)\n",
    "        lst+=sent\n",
    "ss=''.join(lst)\n",
    "jieba.load_userdict('./dict.txt')\n",
    "tags = jieba.analyse.extract_tags(ss,topK=20,withWeight=True,allowPOS=('n'))\n",
    "print(tags)\n",
    "\n",
    "\n",
    "(\n",
    "    WordCloud()\n",
    "    .add(series_name=\"政府n_4\", data_pair=tags, word_size_range=[25,80],width=1200,height=600)\n",
    "    .set_global_opts(\n",
    "        title_opts=opts.TitleOpts(\n",
    "            title=\"政府n_4\", title_textstyle_opts=opts.TextStyleOpts(font_size=40)\n",
    "        ),\n",
    "        tooltip_opts=opts.TooltipOpts(is_show=True),\n",
    "    )\n",
    "\n",
    "    .render(\"政府n_4.html\")\n",
    "    \n",
    ")"
   ]
  },
  {
   "cell_type": "code",
   "execution_count": 70,
   "metadata": {},
   "outputs": [
    {
     "name": "stdout",
     "output_type": "stream",
     "text": [
      "[('取消', 0.5686349759130435), ('停运', 0.47200674844782603), ('救治', 0.3631131116121739), ('回应', 0.32392205347086955), ('演出', 0.29444268288260866), ('阻走', 0.25988625006304344), ('哄抬', 0.2381791015826087), ('加强', 0.23297398609521738), ('进藏', 0.22428605898913043), ('自责', 0.2053550077330435), ('失职', 0.20060540907630436), ('要求', 0.20028468496826088), ('佩戴', 0.19476163542108696), ('严惩', 0.1919950749947826), ('可疑', 0.1909279095556522), ('痛心', 0.18966365042173913), ('隐瞒', 0.17833878620586957), ('隔离', 0.17769195444326089), ('查处', 0.17435097099086957), ('下达', 0.17322679270717392)]\n"
     ]
    },
    {
     "data": {
      "text/plain": [
       "'c:\\\\Users\\\\szh\\\\Desktop\\\\szh\\\\Python_test\\\\NLP\\\\Experiment\\\\Experiment_1\\\\疫情微博热搜\\\\政府v_1.html'"
      ]
     },
     "execution_count": 70,
     "metadata": {},
     "output_type": "execute_result"
    }
   ],
   "source": [
    "lst=[]\n",
    "for i in range(600,len(list(df_hour['主题']))):\n",
    "    if list(df_hour['主题'])[i][:2]=='政府':\n",
    "        s=list(df_hour['热搜内容'])[i]\n",
    "        sent=re.sub('[^0-9A-Za-z\\u4e00-\\u9fa5]|能出|可能|开往|例', '', s)\n",
    "        lst+=sent\n",
    "ss=''.join(lst)\n",
    "jieba.load_userdict('./dict.txt')\n",
    "tags = jieba.analyse.extract_tags(ss,topK=20,withWeight=True,allowPOS=('v'))\n",
    "print(tags)\n",
    "\n",
    "(\n",
    "    WordCloud()\n",
    "    .add(series_name=\"政府v_1\", data_pair=tags, word_size_range=[25,80],width=1200,height=600)\n",
    "    .set_global_opts(\n",
    "        title_opts=opts.TitleOpts(\n",
    "            title=\"政府v_1\", title_textstyle_opts=opts.TextStyleOpts(font_size=40)\n",
    "        ),\n",
    "        tooltip_opts=opts.TooltipOpts(is_show=True),\n",
    "    )\n",
    "\n",
    "    .render(\"政府v_1.html\")\n",
    "    \n",
    ")\n"
   ]
  },
  {
   "cell_type": "code",
   "execution_count": 71,
   "metadata": {},
   "outputs": [
    {
     "name": "stdout",
     "output_type": "stream",
     "text": [
      "[('回应', 1.655601606628889), ('确诊', 0.89620743499), ('控疫', 0.6641537501611111), ('付费', 0.5254459108605556), ('求助', 0.5228911823466666), ('免职', 0.5137065167677778), ('疑似', 0.5116294316527777), ('减免', 0.46686163481555554), ('负担', 0.39193320981722224), ('感染', 0.3787383224638889), ('安排', 0.3207373938488889), ('处理', 0.3006030920755556), ('发布', 0.2828977240661111), ('决定', 0.2637229698438889)]\n"
     ]
    },
    {
     "data": {
      "text/plain": [
       "'c:\\\\Users\\\\szh\\\\Desktop\\\\szh\\\\Python_test\\\\NLP\\\\Experiment\\\\Experiment_1\\\\疫情微博热搜\\\\政府v_2.html'"
      ]
     },
     "execution_count": 71,
     "metadata": {},
     "output_type": "execute_result"
    }
   ],
   "source": [
    "lst=[]\n",
    "for i in range(300,600):\n",
    "    if list(df_hour['主题'])[i][:2]=='政府':\n",
    "        s=list(df_hour['热搜内容'])[i]\n",
    "        sent=re.sub('[^0-9A-Za-z\\u4e00-\\u9fa5]|没到|测出|检出', '', s)\n",
    "        lst+=sent\n",
    "ss=''.join(lst)\n",
    "jieba.load_userdict('./dict.txt')\n",
    "tags = jieba.analyse.extract_tags(ss,topK=20,withWeight=True,allowPOS=('v'))\n",
    "print(tags)\n",
    "\n",
    "(\n",
    "    WordCloud()\n",
    "    .add(series_name=\"政府v_2\", data_pair=tags, word_size_range=[25,80],width=1200,height=600)\n",
    "    .set_global_opts(\n",
    "        title_opts=opts.TitleOpts(\n",
    "            title=\"政府v_2\", title_textstyle_opts=opts.TextStyleOpts(font_size=40)\n",
    "        ),\n",
    "        tooltip_opts=opts.TooltipOpts(is_show=True),\n",
    "    )\n",
    "\n",
    "    .render(\"政府v_2.html\")\n",
    "    \n",
    ")"
   ]
  },
  {
   "cell_type": "code",
   "execution_count": 72,
   "metadata": {},
   "outputs": [
    {
     "name": "stdout",
     "output_type": "stream",
     "text": [
      "[('付费', 0.6305350930326666), ('求助', 0.627469418816), ('免职', 0.6164478201213334), ('疑似', 0.6139553179833332), ('收储', 0.5635960186873333), ('减免', 0.5602339617786666), ('确诊', 0.537724460994), ('防护', 0.5103047257660001), ('回应', 0.49668048198866666), ('负担', 0.47031985178066665), ('修改', 0.45026036483466664), ('采购', 0.4434782386406667), ('安排', 0.38488487261866666), ('处理', 0.36072371049066665), ('发布', 0.3394772688793333)]\n"
     ]
    },
    {
     "data": {
      "text/plain": [
       "'c:\\\\Users\\\\szh\\\\Desktop\\\\szh\\\\Python_test\\\\NLP\\\\Experiment\\\\Experiment_1\\\\疫情微博热搜\\\\政府v_3.html'"
      ]
     },
     "execution_count": 72,
     "metadata": {},
     "output_type": "execute_result"
    }
   ],
   "source": [
    "lst=[]\n",
    "for i in range(200,400):\n",
    "    if list(df_hour['主题'])[i][:2]=='政府':\n",
    "        s=list(df_hour['热搜内容'])[i]\n",
    "        sent=re.sub('[^0-9A-Za-z\\u4e00-\\u9fa5]|\\d+例|不得|期间', '', s)\n",
    "        lst+=sent\n",
    "ss=''.join(lst)\n",
    "jieba.load_userdict('./dict.txt')\n",
    "tags = jieba.analyse.extract_tags(ss,topK=20,withWeight=True,allowPOS=('v'))\n",
    "print(tags)\n",
    "\n",
    "(\n",
    "    WordCloud()\n",
    "    .add(series_name=\"政府v_3\", data_pair=tags, word_size_range=[25,80],width=1200,height=600)\n",
    "    .set_global_opts(\n",
    "        title_opts=opts.TitleOpts(\n",
    "            title=\"政府v_3\", title_textstyle_opts=opts.TextStyleOpts(font_size=40)\n",
    "        ),\n",
    "        tooltip_opts=opts.TooltipOpts(is_show=True),\n",
    "    )\n",
    "\n",
    "    .render(\"政府v_3.html\")\n",
    "    \n",
    ")"
   ]
  },
  {
   "cell_type": "code",
   "execution_count": 73,
   "metadata": {},
   "outputs": [
    {
     "name": "stdout",
     "output_type": "stream",
     "text": [
      "[('殉职', 0.6087362336432433), ('免职', 0.49982255685513516), ('执法', 0.4060603376448649), ('回应', 0.40271390431513515), ('感染', 0.36850215158648647), ('可判', 0.3272680589918919), ('问责', 0.3231018244027027), ('追授', 0.2947282534702703), ('接回', 0.2683888037410811), ('决定', 0.25659532201027024), ('奋战', 0.2540775130175676), ('撤职', 0.24914990337432433), ('调拨', 0.2484093905583784), ('优待', 0.2445580375151351), ('捐款', 0.2365725182475676), ('评定', 0.23143620465594594), ('减免', 0.22712187639675674), ('提拔', 0.21871716654054058), ('交谈', 0.21799640310567567), ('确诊', 0.21799640310567567)]\n"
     ]
    },
    {
     "data": {
      "text/plain": [
       "'c:\\\\Users\\\\szh\\\\Desktop\\\\szh\\\\Python_test\\\\NLP\\\\Experiment\\\\Experiment_1\\\\疫情微博热搜\\\\政府v_4.html'"
      ]
     },
     "execution_count": 73,
     "metadata": {},
     "output_type": "execute_result"
    }
   ],
   "source": [
    "lst=[]\n",
    "for i in range(0,200):\n",
    "    if list(df_hour['主题'])[i][:2]=='政府':\n",
    "        s=list(df_hour['热搜内容'])[i]\n",
    "        sent=re.sub('[^0-9A-Za-z\\u4e00-\\u9fa5]|\\d+例|献出|期间', '', s)\n",
    "        lst+=sent\n",
    "ss=''.join(lst)\n",
    "jieba.load_userdict('./dict.txt')\n",
    "tags = jieba.analyse.extract_tags(ss,topK=20,withWeight=True,allowPOS=('v'))\n",
    "print(tags)\n",
    "\n",
    "(\n",
    "    WordCloud()\n",
    "    .add(series_name=\"政府v_4\", data_pair=tags, word_size_range=[25,80],width=1200,height=600)\n",
    "    .set_global_opts(\n",
    "        title_opts=opts.TitleOpts(\n",
    "            title=\"政府v_4\", title_textstyle_opts=opts.TextStyleOpts(font_size=40)\n",
    "        ),\n",
    "        tooltip_opts=opts.TooltipOpts(is_show=True),\n",
    "    )\n",
    "\n",
    "    .render(\"政府v_4.html\")\n",
    "    \n",
    ")"
   ]
  }
 ],
 "metadata": {
  "interpreter": {
   "hash": "dc27602090462304dd3f86372efd19e69b7030eadfbaca8857bfdb0924f069a2"
  },
  "kernelspec": {
   "display_name": "Python 3.8.5 ('szh')",
   "language": "python",
   "name": "python3"
  },
  "language_info": {
   "codemirror_mode": {
    "name": "ipython",
    "version": 3
   },
   "file_extension": ".py",
   "mimetype": "text/x-python",
   "name": "python",
   "nbconvert_exporter": "python",
   "pygments_lexer": "ipython3",
   "version": "3.9.12"
  },
  "orig_nbformat": 4
 },
 "nbformat": 4,
 "nbformat_minor": 2
}
