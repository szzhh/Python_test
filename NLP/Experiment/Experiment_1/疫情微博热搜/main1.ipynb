{
 "cells": [
  {
   "cell_type": "code",
   "execution_count": 41,
   "metadata": {},
   "outputs": [
    {
     "name": "stdout",
     "output_type": "stream",
     "text": [
      "6272 (896, 7)\n"
     ]
    }
   ],
   "source": [
    "import pandas as pd\n",
    "# 导入小时级数据\n",
    "df_hour = pd.read_csv(open(\"./data.csv\", encoding='utf8'), sep=',',dtype=str)\n",
    "df1 = df_hour.filter(like='钟南山', axis=0)\n",
    "print(df_hour.size, df_hour.shape)"
   ]
  },
  {
   "cell_type": "code",
   "execution_count": 42,
   "metadata": {},
   "outputs": [
    {
     "name": "stdout",
     "output_type": "stream",
     "text": [
      "[('病例', 1.894357121215686), ('肺炎', 0.47622307817333337), ('疫情', 0.47567924236176473), ('首例', 0.4264663741491176), ('全国', 0.2791365640194118), ('乘客', 0.2738847381563726), ('地图', 0.2038772727538235), ('病毒', 0.1818031936401961), ('新冠', 0.17580540445441176), ('口罩', 0.17552779924705883), ('蝙蝠', 0.12951363898779414), ('患者', 0.12446893270117648), ('疑似病例', 0.12269003226372549), ('医院', 0.08621781495985294), ('家庭', 0.08494021517044117), ('野生动物', 0.07822646306205883), ('病情', 0.07167035886058823), ('疫苗', 0.07108233924892157), ('喷剂', 0.061345016131862745), ('试剂盒', 0.06025117519362745)]\n"
     ]
    }
   ],
   "source": [
    "import jieba\n",
    "import jieba.analyse\n",
    "import re\n",
    "\n",
    "lst=[]\n",
    "for i in range(600,len(list(df_hour['主题']))):\n",
    "    if list(df_hour['主题'])[i][:2]=='疫情':\n",
    "        s=list(df_hour['热搜内容'])[i]\n",
    "        sent=re.sub('[^0-9A-Za-z\\u4e00-\\u9fa5]|\\d+例|\\d+口人|期间', '', s)\n",
    "        lst+=sent\n",
    "ss=''.join(lst)\n",
    "jieba.load_userdict('./dict.txt')\n",
    "tags = jieba.analyse.extract_tags(ss,topK=20,withWeight=True,allowPOS=('n'))\n",
    "print(tags)"
   ]
  },
  {
   "cell_type": "code",
   "execution_count": 43,
   "metadata": {},
   "outputs": [
    {
     "data": {
      "text/plain": [
       "'c:\\\\Users\\\\szh\\\\Desktop\\\\szh\\\\Python_test\\\\NLP\\\\Experiment\\\\Experiment_1\\\\疫情微博热搜\\\\疫情n_1.html'"
      ]
     },
     "execution_count": 43,
     "metadata": {},
     "output_type": "execute_result"
    }
   ],
   "source": [
    "import pyecharts.options as opts\n",
    "from pyecharts.charts import WordCloud\n",
    "\n",
    "(\n",
    "    WordCloud()\n",
    "    .add(series_name=\"疫情n_1\", data_pair=tags, word_size_range=[25,80],width=1200,height=600)\n",
    "    .set_global_opts(\n",
    "        title_opts=opts.TitleOpts(\n",
    "            title=\"疫情n_1\", title_textstyle_opts=opts.TextStyleOpts(font_size=40)\n",
    "        ),\n",
    "        tooltip_opts=opts.TooltipOpts(is_show=True),\n",
    "    )\n",
    "\n",
    "    .render(\"疫情n_1.html\")\n",
    "    \n",
    ")"
   ]
  },
  {
   "cell_type": "code",
   "execution_count": 44,
   "metadata": {},
   "outputs": [
    {
     "name": "stdout",
     "output_type": "stream",
     "text": [
      "[('病例', 2.0083168724447242), ('疫情', 0.827756791826378), ('地图', 0.3820692198063779), ('首例', 0.380573667219685), ('全国', 0.2615531584118898), ('患者', 0.24991793573858267), ('出院', 0.2050469722889764), ('航班', 0.13578839358661418), ('乘客', 0.12569738264094488), ('行程', 0.12536230550015748), ('病毒', 0.1168121307168504), ('医学观察', 0.10080366427795276), ('门把手', 0.09534581246220472), ('甲流', 0.09413202758188975), ('期向', 0.09413202758188975), ('禽流感', 0.08925770310629921), ('邮轮', 0.08762274747795276), ('包机', 0.08511523778425198), ('立案侦查', 0.0832163239511811), ('车次', 0.0829400143464567)]\n"
     ]
    },
    {
     "data": {
      "text/plain": [
       "'c:\\\\Users\\\\szh\\\\Desktop\\\\szh\\\\Python_test\\\\NLP\\\\Experiment\\\\Experiment_1\\\\疫情微博热搜\\\\疫情n_2.html'"
      ]
     },
     "execution_count": 44,
     "metadata": {},
     "output_type": "execute_result"
    }
   ],
   "source": [
    "lst=[]\n",
    "for i in range(400,600):\n",
    "    if list(df_hour['主题'])[i][:2]=='疫情':\n",
    "        s=list(df_hour['热搜内容'])[i]\n",
    "        sent=re.sub('[^0-9A-Za-z\\u4e00-\\u9fa5]|\\d+例|\\d+口人|期间', '', s)\n",
    "        lst+=sent\n",
    "ss=''.join(lst)\n",
    "jieba.load_userdict('./dict.txt')\n",
    "tags = jieba.analyse.extract_tags(ss,topK=20,withWeight=True,allowPOS=('n'))\n",
    "print(tags)\n",
    "\n",
    "\n",
    "(\n",
    "    WordCloud()\n",
    "    .add(series_name=\"疫情n_2\", data_pair=tags, word_size_range=[25,80],width=1200,height=600)\n",
    "    .set_global_opts(\n",
    "        title_opts=opts.TitleOpts(\n",
    "            title=\"疫情n_2\", title_textstyle_opts=opts.TextStyleOpts(font_size=40)\n",
    "        ),\n",
    "        tooltip_opts=opts.TooltipOpts(is_show=True),\n",
    "    )\n",
    "\n",
    "    .render(\"疫情n_2.html\")\n",
    "    \n",
    ")"
   ]
  },
  {
   "cell_type": "code",
   "execution_count": 45,
   "metadata": {},
   "outputs": [
    {
     "name": "stdout",
     "output_type": "stream",
     "text": [
      "[('新冠', 1.6710965326634406), ('肺炎', 1.3295142827595698), ('病例', 0.9141800817221505), ('疫情', 0.8695211957150538), ('邮轮', 0.4786274808473118), ('全国', 0.45922466983838717), ('地图', 0.4472146628148387), ('患者', 0.20477146992774198), ('口人', 0.12854588712795698), ('烤鸭', 0.11529703033978493), ('临床试验', 0.11220367472258065), ('感染者', 0.10638004802946237), ('首例', 0.10394162524064515), ('买菜', 0.10073202321311828), ('核酸', 0.09704817557817204), ('口罩', 0.09625718023225807), ('地区', 0.09585810378967742), ('球队', 0.09282601605279571), ('重症', 0.08967737656946236), ('轨迹', 0.0892715665911828)]\n"
     ]
    },
    {
     "data": {
      "text/plain": [
       "'c:\\\\Users\\\\szh\\\\Desktop\\\\szh\\\\Python_test\\\\NLP\\\\Experiment\\\\Experiment_1\\\\疫情微博热搜\\\\疫情n_3.html'"
      ]
     },
     "execution_count": 45,
     "metadata": {},
     "output_type": "execute_result"
    }
   ],
   "source": [
    "lst=[]\n",
    "for i in range(200,400):\n",
    "    if list(df_hour['主题'])[i][:2]=='疫情':\n",
    "        s=list(df_hour['热搜内容'])[i]\n",
    "        sent=re.sub('[^0-9A-Za-z\\u4e00-\\u9fa5]|\\d+例|期间', '', s)\n",
    "        lst+=sent\n",
    "ss=''.join(lst)\n",
    "jieba.load_userdict('./dict.txt')\n",
    "tags = jieba.analyse.extract_tags(ss,topK=20,withWeight=True,allowPOS=('n'))\n",
    "print(tags)\n",
    "\n",
    "\n",
    "(\n",
    "    WordCloud()\n",
    "    .add(series_name=\"疫情n_3\", data_pair=tags, word_size_range=[25,80],width=1200,height=600)\n",
    "    .set_global_opts(\n",
    "        title_opts=opts.TitleOpts(\n",
    "            title=\"疫情n_3\", title_textstyle_opts=opts.TextStyleOpts(font_size=40)\n",
    "        ),\n",
    "        tooltip_opts=opts.TooltipOpts(is_show=True),\n",
    "    )\n",
    "\n",
    "    .render(\"疫情n_3.html\")\n",
    "    \n",
    ")"
   ]
  },
  {
   "cell_type": "code",
   "execution_count": 46,
   "metadata": {},
   "outputs": [
    {
     "name": "stdout",
     "output_type": "stream",
     "text": [
      "[('新冠', 2.496881820225949), ('肺炎', 1.6769190094481012), ('病例', 0.9294339495989873), ('出院', 0.3296324744392405), ('全国', 0.3003368093879747), ('血浆', 0.21446410184860762), ('患者', 0.20088340404303798), ('病毒', 0.18778658988658228), ('阴性', 0.17122548853272151), ('疫苗', 0.13766579626689873), ('感染者', 0.12523220843974683), ('重症', 0.1055695698855696), ('疫情', 0.10236135595126582), ('药盒', 0.08359196500886076), ('彩照', 0.08359196500886076), ('邮轮', 0.07043094259303798), ('医疗队', 0.06901864163544304), ('医护', 0.06786470773164556), ('临床试验', 0.06604393512151899), ('全员', 0.06604393512151899)]\n"
     ]
    },
    {
     "data": {
      "text/plain": [
       "'c:\\\\Users\\\\szh\\\\Desktop\\\\szh\\\\Python_test\\\\NLP\\\\Experiment\\\\Experiment_1\\\\疫情微博热搜\\\\疫情n_4.html'"
      ]
     },
     "execution_count": 46,
     "metadata": {},
     "output_type": "execute_result"
    }
   ],
   "source": [
    "lst=[]\n",
    "for i in range(0,200):\n",
    "    if list(df_hour['主题'])[i][:2]=='疫情':\n",
    "        s=list(df_hour['热搜内容'])[i]\n",
    "        sent=re.sub('[^0-9A-Za-z\\u4e00-\\u9fa5]|\\d+例|\\d+口人|期间', '', s)\n",
    "        lst+=sent\n",
    "ss=''.join(lst)\n",
    "jieba.load_userdict('./dict.txt')\n",
    "tags = jieba.analyse.extract_tags(ss,topK=20,withWeight=True,allowPOS=('n'))\n",
    "print(tags)\n",
    "\n",
    "\n",
    "(\n",
    "    WordCloud()\n",
    "    .add(series_name=\"疫情n_4\", data_pair=tags, word_size_range=[25,80],width=1200,height=600)\n",
    "    .set_global_opts(\n",
    "        title_opts=opts.TitleOpts(\n",
    "            title=\"疫情n_4\", title_textstyle_opts=opts.TextStyleOpts(font_size=40)\n",
    "        ),\n",
    "        tooltip_opts=opts.TooltipOpts(is_show=True),\n",
    "    )\n",
    "\n",
    "    .render(\"疫情n_4.html\")\n",
    "    \n",
    ")"
   ]
  },
  {
   "cell_type": "code",
   "execution_count": 47,
   "metadata": {},
   "outputs": [
    {
     "name": "stdout",
     "output_type": "stream",
     "text": [
      "[('确诊', 2.3506240723452), ('新增', 1.69307167813), ('累计', 0.3463290452548572), ('死亡', 0.2144667412302857), ('聚集', 0.2023046082085714), ('感染', 0.1558237669565714), ('出现', 0.13175890263737142), ('疑似', 0.10524948308285713), ('发现', 0.09995537972114285), ('治愈', 0.09753944727942858), ('发热', 0.087392558176), ('增至', 0.08507323424457143), ('脱戴', 0.06831295715942856), ('开建', 0.055578802183314284), ('严防', 0.0546853960668), ('暂无', 0.05461069845782857), ('倍增', 0.05306032648645714), ('高发', 0.052677408142000004), ('痊愈', 0.05072455503502857), ('隔离', 0.04670759945365715)]\n"
     ]
    },
    {
     "data": {
      "text/plain": [
       "'c:\\\\Users\\\\szh\\\\Desktop\\\\szh\\\\Python_test\\\\NLP\\\\Experiment\\\\Experiment_1\\\\疫情微博热搜\\\\疫情v_1.html'"
      ]
     },
     "execution_count": 47,
     "metadata": {},
     "output_type": "execute_result"
    }
   ],
   "source": [
    "lst=[]\n",
    "for i in range(600,len(list(df_hour['主题']))):\n",
    "    if list(df_hour['主题'])[i][:2]=='疫情':\n",
    "        s=list(df_hour['热搜内容'])[i]\n",
    "        sent=re.sub('[^0-9A-Za-z\\u4e00-\\u9fa5]|能出|可能|开往|例', '', s)\n",
    "        lst+=sent\n",
    "ss=''.join(lst)\n",
    "jieba.load_userdict('./dict.txt')\n",
    "tags = jieba.analyse.extract_tags(ss,topK=20,withWeight=True,allowPOS=('v'))\n",
    "print(tags)\n",
    "\n",
    "(\n",
    "    WordCloud()\n",
    "    .add(series_name=\"疫情v_1\", data_pair=tags, word_size_range=[25,80],width=1200,height=600)\n",
    "    .set_global_opts(\n",
    "        title_opts=opts.TitleOpts(\n",
    "            title=\"疫情v_1\", title_textstyle_opts=opts.TextStyleOpts(font_size=40)\n",
    "        ),\n",
    "        tooltip_opts=opts.TooltipOpts(is_show=True),\n",
    "    )\n",
    "\n",
    "    .render(\"疫情v_1.html\")\n",
    "    \n",
    ")\n"
   ]
  },
  {
   "cell_type": "code",
   "execution_count": 48,
   "metadata": {},
   "outputs": [
    {
     "name": "stdout",
     "output_type": "stream",
     "text": [
      "[('确诊', 2.4056094307626315), ('新增', 1.6973149655438595), ('累计', 0.42531637136561407), ('隐瞒', 0.2878450584375438), ('感染', 0.23920315102982456), ('死亡', 0.21948350710701753), ('治愈', 0.14973160766578947), ('隔离', 0.14340052463842107), ('扩散', 0.13352565054508772), ('外卖', 0.10621858055), ('疑似', 0.08078359447149122), ('编造', 0.08008765813605263), ('吵架', 0.07559187651964913), ('觉醒', 0.07482490898114035), ('查出', 0.07371499497087719), ('救治', 0.0732596628691228), ('出现', 0.06742049111561403), ('发热', 0.06707762140701753), ('开会', 0.06647467028114035), ('进城', 0.06432105035578947)]\n"
     ]
    },
    {
     "data": {
      "text/plain": [
       "'c:\\\\Users\\\\szh\\\\Desktop\\\\szh\\\\Python_test\\\\NLP\\\\Experiment\\\\Experiment_1\\\\疫情微博热搜\\\\疫情v_2.html'"
      ]
     },
     "execution_count": 48,
     "metadata": {},
     "output_type": "execute_result"
    }
   ],
   "source": [
    "lst=[]\n",
    "for i in range(400,600):\n",
    "    if list(df_hour['主题'])[i][:2]=='疫情':\n",
    "        s=list(df_hour['热搜内容'])[i]\n",
    "        sent=re.sub('[^0-9A-Za-z\\u4e00-\\u9fa5]|没到|测出|检出', '', s)\n",
    "        lst+=sent\n",
    "ss=''.join(lst)\n",
    "jieba.load_userdict('./dict.txt')\n",
    "tags = jieba.analyse.extract_tags(ss,topK=20,withWeight=True,allowPOS=('v'))\n",
    "print(tags)\n",
    "\n",
    "(\n",
    "    WordCloud()\n",
    "    .add(series_name=\"疫情v_2\", data_pair=tags, word_size_range=[25,80],width=1200,height=600)\n",
    "    .set_global_opts(\n",
    "        title_opts=opts.TitleOpts(\n",
    "            title=\"疫情v_2\", title_textstyle_opts=opts.TextStyleOpts(font_size=40)\n",
    "        ),\n",
    "        tooltip_opts=opts.TooltipOpts(is_show=True),\n",
    "    )\n",
    "\n",
    "    .render(\"疫情v_2.html\")\n",
    "    \n",
    ")"
   ]
  },
  {
   "cell_type": "code",
   "execution_count": 49,
   "metadata": {},
   "outputs": [
    {
     "name": "stdout",
     "output_type": "stream",
     "text": [
      "[('确诊', 1.6721919213837806), ('新增', 1.4748011133536585), ('累计', 1.2564986702843903), ('连降', 0.5657606126341463), ('感染', 0.49882608324512195), ('死亡', 0.22885170558109755), ('未戴', 0.14578984759634145), ('预判', 0.14578984759634145), ('陪护', 0.1373368332), ('疑似', 0.11230889963109755), ('隐瞒', 0.100043709335), ('隔离', 0.09968085249256098), ('蔓延', 0.0951263256092683), ('防治', 0.09132755346670732), ('出门', 0.08388660035243903), ('呈现', 0.07566420747109756), ('失去', 0.07434666181036585), ('治疗', 0.07103016005780488), ('公布', 0.06173147365402439), ('出现', 0.046865463336463416)]\n"
     ]
    },
    {
     "data": {
      "text/plain": [
       "'c:\\\\Users\\\\szh\\\\Desktop\\\\szh\\\\Python_test\\\\NLP\\\\Experiment\\\\Experiment_1\\\\疫情微博热搜\\\\疫情v_3.html'"
      ]
     },
     "execution_count": 49,
     "metadata": {},
     "output_type": "execute_result"
    }
   ],
   "source": [
    "lst=[]\n",
    "for i in range(200,400):\n",
    "    if list(df_hour['主题'])[i][:2]=='疫情':\n",
    "        s=list(df_hour['热搜内容'])[i]\n",
    "        sent=re.sub('[^0-9A-Za-z\\u4e00-\\u9fa5]|\\d+例|不能|期间', '', s)\n",
    "        lst+=sent\n",
    "ss=''.join(lst)\n",
    "jieba.load_userdict('./dict.txt')\n",
    "tags = jieba.analyse.extract_tags(ss,topK=20,withWeight=True,allowPOS=('v'))\n",
    "print(tags)\n",
    "\n",
    "(\n",
    "    WordCloud()\n",
    "    .add(series_name=\"疫情v_3\", data_pair=tags, word_size_range=[25,80],width=1200,height=600)\n",
    "    .set_global_opts(\n",
    "        title_opts=opts.TitleOpts(\n",
    "            title=\"疫情v_3\", title_textstyle_opts=opts.TextStyleOpts(font_size=40)\n",
    "        ),\n",
    "        tooltip_opts=opts.TooltipOpts(is_show=True),\n",
    "    )\n",
    "\n",
    "    .render(\"疫情v_3.html\")\n",
    "    \n",
    ")"
   ]
  },
  {
   "cell_type": "code",
   "execution_count": 50,
   "metadata": {},
   "outputs": [
    {
     "name": "stdout",
     "output_type": "stream",
     "text": [
      "[('确诊', 1.6833113561551305), ('新增', 1.419656376071739), ('累计', 0.5797247061874783), ('连降', 0.40341191509565216), ('治愈', 0.3710739842152174), ('治疗', 0.15194277716713042), ('隔离', 0.1421535635546087), ('感染', 0.1185615618147826), ('死亡', 0.10878747743565216), ('涉药', 0.10395450002521739), ('殡葬', 0.0866856697326087), ('哭喊', 0.08310323678365217), ('疑似', 0.08008112843260869), ('跳舞', 0.07511293446147826), ('破解', 0.07511293446147826), ('救治', 0.07262262232243477), ('抢救', 0.06717226419017391), ('免疫', 0.06683538742217392), ('出现', 0.06683422597547826), ('告知', 0.0667144925946087)]\n"
     ]
    },
    {
     "data": {
      "text/plain": [
       "'c:\\\\Users\\\\szh\\\\Desktop\\\\szh\\\\Python_test\\\\NLP\\\\Experiment\\\\Experiment_1\\\\疫情微博热搜\\\\疫情v_4.html'"
      ]
     },
     "execution_count": 50,
     "metadata": {},
     "output_type": "execute_result"
    }
   ],
   "source": [
    "lst=[]\n",
    "for i in range(0,200):\n",
    "    if list(df_hour['主题'])[i][:2]=='疫情':\n",
    "        s=list(df_hour['热搜内容'])[i]\n",
    "        sent=re.sub('[^0-9A-Za-z\\u4e00-\\u9fa5]|\\d+例|献出|期间', '', s)\n",
    "        lst+=sent\n",
    "ss=''.join(lst)\n",
    "jieba.load_userdict('./dict.txt')\n",
    "tags = jieba.analyse.extract_tags(ss,topK=20,withWeight=True,allowPOS=('v'))\n",
    "print(tags)\n",
    "\n",
    "(\n",
    "    WordCloud()\n",
    "    .add(series_name=\"疫情v_4\", data_pair=tags, word_size_range=[25,80],width=1200,height=600)\n",
    "    .set_global_opts(\n",
    "        title_opts=opts.TitleOpts(\n",
    "            title=\"疫情v_4\", title_textstyle_opts=opts.TextStyleOpts(font_size=40)\n",
    "        ),\n",
    "        tooltip_opts=opts.TooltipOpts(is_show=True),\n",
    "    )\n",
    "\n",
    "    .render(\"疫情v_4.html\")\n",
    "    \n",
    ")"
   ]
  }
 ],
 "metadata": {
  "interpreter": {
   "hash": "dc27602090462304dd3f86372efd19e69b7030eadfbaca8857bfdb0924f069a2"
  },
  "kernelspec": {
   "display_name": "Python 3.8.5 ('szh')",
   "language": "python",
   "name": "python3"
  },
  "language_info": {
   "codemirror_mode": {
    "name": "ipython",
    "version": 3
   },
   "file_extension": ".py",
   "mimetype": "text/x-python",
   "name": "python",
   "nbconvert_exporter": "python",
   "pygments_lexer": "ipython3",
   "version": "3.8.5"
  },
  "orig_nbformat": 4
 },
 "nbformat": 4,
 "nbformat_minor": 2
}
