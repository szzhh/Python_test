{
 "metadata": {
  "language_info": {
   "codemirror_mode": {
    "name": "ipython",
    "version": 3
   },
   "file_extension": ".py",
   "mimetype": "text/x-python",
   "name": "python",
   "nbconvert_exporter": "python",
   "pygments_lexer": "ipython3",
   "version": "3.8.5"
  },
  "orig_nbformat": 2,
  "kernelspec": {
   "name": "python3",
   "display_name": "Python 3",
   "language": "python"
  }
 },
 "nbformat": 4,
 "nbformat_minor": 2,
 "cells": [
  {
   "cell_type": "code",
   "execution_count": 5,
   "metadata": {},
   "outputs": [
    {
     "output_type": "stream",
     "name": "stdout",
     "text": [
      "3.141592653589793\n8.0\n10\n9\n"
     ]
    }
   ],
   "source": [
    "import math as m\n",
    "print(m.pi)\n",
    "print(m.pow(2,3))\n",
    "print(m.ceil(9.001))\n",
    "print(m.floor(9.999))"
   ]
  },
  {
   "cell_type": "code",
   "execution_count": 3,
   "metadata": {},
   "outputs": [
    {
     "output_type": "stream",
     "name": "stdout",
     "text": [
      "28\n28\n28\n24\n"
     ]
    }
   ],
   "source": [
    "import sys\n",
    "print(sys.getsizeof(24))\n",
    "print(sys.getsizeof(100))\n",
    "print(sys.getsizeof(True))\n",
    "print(sys.getsizeof(False))"
   ]
  },
  {
   "cell_type": "code",
   "execution_count": 9,
   "metadata": {},
   "outputs": [
    {
     "output_type": "stream",
     "name": "stdout",
     "text": [
      "1613873506.923281\ntime.struct_time(tm_year=2021, tm_mon=2, tm_mday=21, tm_hour=10, tm_min=11, tm_sec=46, tm_wday=6, tm_yday=52, tm_isdst=0)\n"
     ]
    }
   ],
   "source": [
    "import time\n",
    "print(time.time())\n",
    "print(time.localtime(time.time()))"
   ]
  },
  {
   "cell_type": "code",
   "execution_count": 14,
   "metadata": {
    "tags": [
     "outputPrepend"
    ]
   },
   "outputs": [
    {
     "output_type": "stream",
     "name": "stdout",
     "text": [
      "\"ecma.bdimg.com\":\"dss1.bdstatic.com\\\\/-0U0bXSm1A5BphGlnYG\",\"tag.baidu.com\":\"sp1.baidu.com\\\\/6LMFsjip0QIZ8tyhnq\",\"hw.baidu.com\":\"sp0.baidu.com\\\\/7KF1bjeh1BF3odCf\",\"opendata.baidu.com\":\"sp0.baidu.com\\\\/8aQDcjqpAAV3otqbppnN2DJv\",\"open.baidu.com\":\"dss1.baidu.com\\\\/8aQDcnSm2Q5IlBGlnYG\",\"api.open.baidu.com\":\"sp0.baidu.com\\\\/9_Q4sjW91Qh3otqbppnN2DJv\",\"xiaodu.baidu.com\":\"sp0.baidu.com\\\\/yLsHczq6KgQFm2e88IuM_a\",\"s0.nuomi.bdimg.com\":\"dss1.bdstatic.com\\\\/5eR1ciub_Q63otebn9fN2DJv\",\"s1.nuomi.bdimg.com\":\"dss0.baidu.com\\\\/5eN1ciub_Q63otebn9fN2DJv\",\"s2.nuomi.bdimg.com\":\"dss2.bdstatic.com\\\\/5eZ1ciub_Q63otebn9fN2DJv\",\"vse.baidu.com\":\"sp3.baidu.com\\\\/6qUDsjip0QIZ8tyhnq\",\"himg.bdimg.com\":\"dss1.bdstatic.com\\\\/7Ls0a8Sm1A5BphGlnYG\",\"ss.bdimg.com\":\"dss1.bdstatic.com\\\\/5aV1bjqh_Q23odCf\",\"ecmb.bdimg.com\":\"dss0.bdstatic.com\\\\/-0U0bnSm1A5BphGlnYG\",\"e.su.bdimg.com\":\"dss0.bdstatic.com\\\\/-4oZeXSm1A5BphGlnYG\",\"sensearch.baidu.com\":\"sp1.baidu.com\\\\/5b11fzupBgM18t7jm9iCKT-xh_\",\"sestat.baidu.com\":\"sp1.baidu.com\\\\/5b1ZeDe5KgQFm2e88IuM_a\",\"cdn00.baidu-img.cn\":\"dss0.bdstatic.com\\\\/9bA1vGba2gU2pMbfm9GUKT-w\",\"cdn01.baidu-img.cn\":\"dss0.bdstatic.com\\\\/9bA1vGfa2gU2pMbfm9GUKT-w\"}\\n};\\n\\n    var s_session={\\n        \"logId\":\"4015040865\",\\n        \"seqId\":\"4015040985\",\\n        \"sessionId\":\"\",\\n        \"debug\":false,\\n        \"userTips\":\"{}\",\\n        \"curmod\":\"2\",\\n        \"firstmod\":\"\",\\n        \"logoCode\":false,\\n        \"isFesLogo\":false,\\n        \"sid\":\"33425_33516_33580_33273_33392_33585_26350\",\\n        \"mSid\":\"\",\\n        \"sample_value\":\"\",\\n        \"isLogin\":false\\n    };\\n\\n            window.__async_strategy = 2;\\n\\n</script>\\n\\n<script type=\"text/javascript\" src=\"http://ss.bdimg.com/static/superman/js/lib/jquery-1-edb203c114.10.2.js\"></script>\\n\\n<script type=\"text/javascript\" src=\"http://ss.bdimg.com/static/superman/js/lib/esl-ef22c5ed31.js\"></script>\\n\\n<script type=\"text/javascript\">bds.util.domain=function(){var list=$.extend({},s_domain.ssllist);$.each(list,function(i,e){if(list[i].indexOf(\"https://\")<0){list[i]=\"https://\"+list[i]}});var get=function(url){if(s_domain.protocol==\"http:\"){return url}var reg=/^(http[s]?:\\\\/\\\\/)?([^\\\\/]+)(.*)/,matches=url.match(reg);url=list.hasOwnProperty(matches[2])&&list[matches[2]]+matches[3]||url;return url},set=function(kdomain,vdomain){list[kdomain]=vdomain};return{get:get,set:set}}();bds.comm.sugHost=bds.util.domain.get(\\n\"http://suggestion.baidu.com/su\");</script>\\n<script type=\"text/javascript\">define(\"modules/monitor/log-send\",[\"require\",\"exports\"],function(e,t){\"use strict\";function o(e){if(!e)return!1;var t=document.cookie.indexOf(\"webbtest=1\")>-1;return t||Math.random()<e}function i(e){if(!e.group||!o(n.sample[e.group]))return\"\";var t=n.logServer+\"?pid=\"+n.pid+\"&lid=\"+bds.comm.qid+\"&ts=\"+Date.now()+\"&type=except&group=\"+e.group+\"&info=\"+encodeURIComponent(JSON.stringify(e.info))+\"&dim=\"+encodeURIComponent(JSON.stringify(e.dim||{})),i=new Image;return i.src=t,t}t.__esModule=!0,t.send=void 0;var n={pid:\"1_87\",sample:{jserror:.02},logServer:\"https://sp1.baidu.com/5b1ZeDe5KgQFm2e88IuM_a/mwb2.gif\"};t.send=i}),define(\"modules/monitor/js-except\",[\"require\",\"exports\",\"./log-send\"],function(e,t,o){\"use strict\";function i(e,t){if(t.indexOf(\"chrome-extension://\")>-1||t.indexOf(\"moz-extension://\")>-1)return!1;var o=e.toLowerCase();return\"script error.\"===o||\"script error\"===o?!1:!0}function n(e,t){try{var n={info:{},dim:{},group:\"\"},s=n.info,r=e.target||e.srcElement,a=navigator.connection||{};if(s.downlink=a.downlink,s.effectiveType=a.effectiveType,s.rtt=a.rtt,s.deviceMemory=navigator.deviceMemory||0,s.hardwareConcurrency=navigator.hardwareConcurrency||0,r!==window&&\"onerror\"!==t)return;var c=e.error||{},m=c.stack||\"\";e.message&&i(e.message,m)&&(n.group=\"jserror\",s.msg=e.message,s.file=e.filename,s.ln=e.lineno,s.col=e.colno,s.stack=m.split(\"\\\\n\").slice(0,3).join(\"\\\\n\"),o.send(n))}catch(p){console.error(p)}}function s(){var e,t=!1,o=navigator.userAgent.toLowerCase(),i=o.match(/msie ([0-9]+)/);if(i&&i[1]){if(e=parseInt(i[1],10),7>=e)return;9>=e&&(t=!0)}t?window.onerror=function(e,t,o,i){n({message:e,filename:t,lineno:o,colno:i},\"onerror\")}:window.addEventListener&&window.addEventListener(\"error\",n,!0)}t.__esModule=!0,t.listenerExcept=void 0,t.listenerExcept=s});var Cookie={set:function(e,t,o,i,n,s){document.cookie=e+\"=\"+(s?t:escape(t))+(n?\"; expires=\"+n.toGMTString():\"\")+(i?\"; path=\"+i:\"; path=/\")+(o?\"; domain=\"+o:\"\")},get:function(e,t){var o=document.cookie.match(new RegExp(\"(^| )\"+e+\"=([^;]*)(;|$)\"));return null!=o?unescape(o[2]):t},clear:function(e,t,o){this.get(e)&&(document.cookie=e+\"=\"+(t?\"; path=\"+t:\"; path=/\")+(o?\"; domain=\"+o:\"\")+\";expires=Fri, 02-Jan-1970 00:00:00 GMT\")}};!function(){function save(e){var t=[];for(tmpName in options)options.hasOwnProperty(tmpName)&&\"duRobotState\"!==tmpName&&t.push(\\'\"\\'+tmpName+\\'\":\"\\'+options[tmpName]+\\'\"\\');var o=\"{\"+t.join(\",\")+\"}\";bds.comm.personalData?$.ajax({url:\"//www.baidu.com/ups/submit/addtips/?product=ps&tips=\"+encodeURIComponent(o)+\"&_r=\"+(new Date).getTime(),success:function(){writeCookie(),\"function\"==typeof e&&e()}}):(writeCookie(),\"function\"==typeof e&&setTimeout(e,0))}function set(e,t){options[e]=t}function get(e){return options[e]}function writeCookie(){if(options.hasOwnProperty(\"sugSet\")){var e=\"0\"==options.sugSet?\"0\":\"3\";clearCookie(\"sug\"),Cookie.set(\"sug\",e,document.domain,\"/\",expire30y)}if(options.hasOwnProperty(\"sugStoreSet\")){var e=0==options.sugStoreSet?\"0\":\"1\";clearCookie(\"sugstore\"),Cookie.set(\"sugstore\",e,document.domain,\"/\",expire30y)}if(options.hasOwnProperty(\"isSwitch\")){var t={0:\"2\",1:\"0\",2:\"1\"},e=t[options.isSwitch];clearCookie(\"ORIGIN\"),Cookie.set(\"ORIGIN\",e,document.domain,\"/\",expire30y)}if(options.hasOwnProperty(\"imeSwitch\")){var e=options.imeSwitch;clearCookie(\"bdime\"),Cookie.set(\"bdime\",e,document.domain,\"/\",expire30y)}}function writeBAIDUID(){var e,t,o,i=Cookie.get(\"BAIDUID\");/FG=(\\\\d+)/.test(i)&&(t=RegExp.$1),/SL=(\\\\d+)/.test(i)&&(o=RegExp.$1),/NR=(\\\\d+)/.test(i)&&(e=RegExp.$1),options.hasOwnProperty(\"resultNum\")&&(e=options.resultNum),options.hasOwnProperty(\"resultLang\")&&(o=options.resultLang),Cookie.set(\"BAIDUID\",i.replace(/:.*$/,\"\")+(\"undefined\"!=typeof o?\":SL=\"+o:\"\")+(\"undefined\"!=typeof e?\":NR=\"+e:\"\")+(\"undefined\"!=typeof t?\":FG=\"+t:\"\"),\".baidu.com\",\"/\",expire30y,!0)}function clearCookie(e){Cookie.clear(e,\"/\"),Cookie.clear(e,\"/\",document.domain),Cookie.clear(e,\"/\",\".\"+document.domain),Cookie.clear(e,\"/\",\".baidu.com\")}function reset(e){options=defaultOptions,save(e)}var defaultOptions={sugSet:1,sugStoreSet:1,isSwitch:1,isJumpHttps:1,imeSwitch:0,resultNum:10,skinOpen:1,resultLang:0,duRobotState:\"000\"},options={},tmpName,expire30y=new Date;expire30y.setTime(expire30y.getTime()+94608e7);try{if(bds&&bds.comm&&bds.comm.personalData){if(\"string\"==typeof bds.comm.personalData&&(bds.comm.personalData=eval(\"(\"+bds.comm.personalData+\")\")),!bds.comm.personalData)return;for(tmpName in bds.comm.personalData)defaultOptions.hasOwnProperty(tmpName)&&bds.comm.personalData.hasOwnProperty(tmpName)&&\"SUCCESS\"==bds.comm.personalData[tmpName].ErrMsg&&(options[tmpName]=bds.comm.personalData[tmpName].value)}try{parseInt(options.resultNum)||delete options.resultNum,parseInt(options.resultLang)||\"0\"==options.resultLang||delete options.resultLang}catch(e){}writeCookie(),\"sugSet\"in options||(options.sugSet=3!=Cookie.get(\"sug\",3)?0:1),\"sugStoreSet\"in options||(options.sugStoreSet=Cookie.get(\"sugstore\",0));var BAIDUID=Cookie.get(\"BAIDUID\");\"resultNum\"in options||(options.resultNum=/NR=(\\\\d+)/.test(BAIDUID)&&RegExp.$1?parseInt(RegExp.$1):10),\"resultLang\"in options||(options.resultLang=/SL=(\\\\d+)/.test(BAIDUID)&&RegExp.$1?parseInt(RegExp.$1):0),\"isSwitch\"in options||(options.isSwitch=2==Cookie.get(\"ORIGIN\",0)?0:1==Cookie.get(\"ORIGIN\",0)?2:1),\"imeSwitch\"in options||(options.imeSwitch=Cookie.get(\"bdime\",0))}catch(e){}window.UPS={writeBAIDUID:writeBAIDUID,reset:reset,get:get,set:set,save:save}}(),function(){require([\"modules/monitor/js-except\"],function(e){e.listenerExcept()});var e=\"http://s1.bdstatic.com/r/www/cache/static/plugins/every_cookie_4644b13.js\";(\"Mac68K\"==navigator.platform||\"MacPPC\"==navigator.platform||\"Macintosh\"==navigator.platform||\"MacIntel\"==navigator.platform)&&(e=\"http://s1.bdstatic.com/r/www/cache/static/plugins/every_cookie_mac_82990d4.js\"),setTimeout(function(){$.ajax({url:e,cache:!0,dataType:\"script\"})},0);var t=navigator&&navigator.userAgent?navigator.userAgent:\"\",o=document&&document.cookie?document.cookie:\"\",i=!!(t.match(/(msie [2-8])/i)||t.match(/windows.*safari/i)&&!t.match(/chrome/i)||t.match(/(linux.*firefox)/i)||t.match(/Chrome\\\\/29/i)||t.match(/mac os x.*firefox/i)||o.match(/\\\\bISSW=1/)||0==UPS.get(\"isSwitch\"));bds&&bds.comm&&(bds.comm.supportis=!i,bds.comm.isui=!0),window.__restart_confirm_timeout=!0,window.__confirm_timeout=8e3,window.__disable_is_guide=!0,window.__disable_swap_to_empty=!0,window.__switch_add_mask=!0;var n=\"http://s1.bdstatic.com/r/www/cache/static/bundles/polyfill_9354efa.js\",s=\"http://s1.bdstatic.com/r/www/cache/static/global/js/all_async_search_b5bcc48.js\",r=\"/script\";document.write(\"<script src=\\'\"+n+\"\\'><\"+r+\">\"),document.write(\"<script src=\\'\"+s+\"\\'><\"+r+\">\"),bds.comm.newindex&&$(window).on(\"index_off\",function(){$(\\'<div class=\"c-tips-container\" id=\"c-tips-container\"></div>\\').insertAfter(\"#wrapper\"),window.__sample_dynamic_tab&&$(\"#s_tab\").remove()}),bds.comm&&bds.comm.ishome&&Cookie.get(\"H_PS_PSSID\")&&(bds.comm.indexSid=Cookie.get(\"H_PS_PSSID\"));var a=$(document).find(\"#s_tab\").find(\"a\");a&&a.length>0&&a.each(function(e,t){t.innerHTML&&t.innerHTML.match(/\\xe6\\x96\\xb0\\xe9\\x97\\xbb/)&&(t.innerHTML=\"\\xe8\\xb5\\x84\\xe8\\xae\\xaf\",t.href=\"//www.baidu.com/s?rtt=1&bsst=1&cl=2&tn=news&word=\",t.setAttribute(\"sync\",!0))})}();</script>\\n\\n<script>\\n    if(bds.comm.supportis){\\n        window.__restart_confirm_timeout=true;\\n        window.__confirm_timeout=8000;\\n        window.__disable_is_guide=true;\\n        window.__disable_swap_to_empty=true;\\n    }\\n\\n    if(typeof initPreload == \"function\"){\\n        initPreload({\\n            \\'isui\\':true,\\n            \\'index_form\\':\"#form\",\\n            \\'index_kw\\':\"#kw\",\\n            \\'result_form\\':\"#form\",\\n            \\'result_kw\\':\"#kw\",\\n            \\'isui\\':true\\n        });\\n    }\\n    else{\\n        window._sp_async = undefined;\\n\\t\\tnew Image().src = \"/home/page/data/pageserver?errno=7004&from=superman&_t\" + new Date() * 1;\\n    }\\n\\n</script>\\n<script type=\"text/javascript\">(function(){var index_head_css=$(\"#style_super_head_inline\");var index_is_css=$(\"#s_is_index_css\");window.index_links=[];var head_index_css=$(\"head [index]\");window.index_on=function(){s_session.index_off=false};window.index_off=function(){s_session.index_off=true;bds.comm.sIndex=0;$(document.body).attr(\"link\",\"#0000cc\");index_links=[];$(\"head\").find(\"link\").each(function(){if($(this).attr(\"data-for\")!==\"result\"){index_links.push(this);$(this).remove()}});index_is_css.remove()\\n;index_head_css.remove();$(\"#head_wrapper\").css(\"width\",\"\");$(\"#kw\").css(\"font-family\",\"\");$(\"head\").append($.decodeHTML($(\"#s_index_off_css\").html()));$(\"head\").append($.decodeHTML($(\"#s_is_result_css\").html()));$(\".s-tips-skin\").remove();$(\".s-skin-container\").remove();$(\"#s_mancard_newmusic\").remove();head_index_css.remove();$(\"#s-hotsearch-wrapper\").remove();$(\"#s_side_wrapper\").remove();$(\"#blind-box\").remove();$(\"#s_popup_advert\").remove()}})();</script>\\n<script data-for=\"esl-config\">(function(){var amd={keys:{},addPaths:function(opt){if(typeof opt!==\"object\"){return}for(var key in opt){if(opt.hasOwnProperty(key)){opt[key]=opt[key].replace(/(\\\\.js)/,\"\")}}require.config({paths:opt});$.extend(amd.keys,opt)},addConfig:function(config){if(typeof config!==\"object\"){return}require.config(config);for(var item in config){if(config.hasOwnProperty(item)){if(!amd[item]){amd[item]={}}for(var key in config[item]){if(config[item].hasOwnProperty(key)&&config[item][key]){\\namd[item][key]=config[item][key]}}}}}};s_domain.amd=amd;var staticUrl=s_domain.staticUrl+\"static/superman/\";amd.addPaths({\"superman/components/bbox/bbox_view\":staticUrl+\"js/components/bbox/bbox-view-322dff347c.js\"})})();</script>\\r\\n<!--[if lt IE 9]>\\r\\n    <script type=\"text/javascript\" src=\"http://ss.bdimg.com/static/superman/js/polyfill-ie8-30f98ab294.js\"></script>\\r\\n<![endif]--> \\r\\n\\r\\n<script type=\"text/javascript\" src=\"http://ss.bdimg.com/static/superman/js/sbase-0948aa26f1.js\"></script>\\r\\n<style type=\"text/css\">.sui-scrollbar-container{position:relative;overflow:hidden}.sui-scrollbar-bar{border-left:1px solid #E1E1E1;border-right:1px solid #E3E3E3;border-top:1px solid #E3E3E3;border-bottom:1px solid #E3E3E3;background:#E3E3E3;width:7px;position:absolute;top:0;right:0;height:100%;cursor:pointer}.sui-scrollbar-slider{border:1px solid #E1E1E1;background:#fff;width:100%;left:-1px;position:absolute;cursor:pointer}</style><script type=\"text/javascript\">F._setMod(\"superui\");F._fileMap({\"/js/ubase_5a7b0933.js\":[\"superui\",\"util/tool\",\"util/emitter\",\"util/dot\",\"util/smDot\",\"component\",\"component/draggable\",\"component/scrollbar\",\"component/dialog\",\"component/tips\",\"component/share\",\"component/share2\",\"component/notify\",\"component/suggestion\",\"component/placeholder\"],\"/js/ubase_unused_addca7b6.js\":[\"component/draggsort\",\"component/draggselect\",\"component/draggdirs\"],\"/css/ubase_9376fdcf.css\":[\"superui.css\",\"dialog.css\",\"tips.css\",\"share.css\",\"scrollbar.css\",\"suggestion.css\"],\"/css/ubase_sync_ac0620ef.css\":[\"scrollbar_sync.css\"],\"/js/utils_65f6f1b7.js\":[\"util/pubsub\"]});</script><script>F._setMod(\"superman\");F._fileMap({\"/js/sbase-0948aa26f1.js\":[\"lib/event.ts\",\"plugin/browser\",\"plugin/strpx\",\"plugin/url\",\"plugin/ajax\",\"plugin/load_file\",\"plugin/string\",\"plugin/stringify\",\"plugin/localstorage\",\"plugin/fn\",\"plugin/easing\",\"plugin/mousewheel\",\"plugin/cookie\",\"lib/base\",\"lib/sbase\",\"lib/class\",\"lib/mod_evt\",\"lib/log\",\"lib/thunder\",\"lib/utils.js\",\"common/user_attr\",\"common/select\",\"common/bottom_layer\"],\"js/polyfill-ie8-30f98ab294.js\":[\"polyfill/object-define-property\",\\n\"polyfill/object-keys\"],\"/js/min_super-55f966c1aa.js\":[\"common/result_page\",\"common/image_lazy_load\",\"log/webb.min\",\"log/super_all\",\"lib/carditem_log\",\"ps/log\",\"ps/sindex\",\"ps/sug\",\"ps/fpid\",\"start/super_start\",\"page/info\",\"page/scroll\"],\"/js/super_ext-5de6ed6474.js\":[\"plugin/mousewheel\",\"weather/setting_refresh\",\"weather/setting_ctrl\",\"weather/setting_view\",\"weather/weather_city\"],\"/js/super_load-a97cbd2188.js\":[\"weather/weather_tpl\",\"weather/weather_ctrl\",\"weather/weather_autorefresh\",\\n\"start/skin_start\",\"skin/skin_rewrite\",\"mngr/top_layer\",\"mngr/menu_user\",\"mngr/menu_common\",\"mngr/quit_dialog\",\"mngr/top_menunav_new\",\"common/guide_tip\",\"page/page_exp\"],\"/js/skin_layer-8c8751990d.js\":[\"skin/skin_init_new\",\"skin/skin_cut_img\",\"skin/skin_model\",\"skin/skin_nav\",\"skin/skin_page\",\"skin/skin_tools\",\"skin/skin_img\",\"skin/skin_control_new\",\"skin/skin_view\",\"skin/skin_new_upload\",\"skin/skin_setting\",\"skin/skin_preview\",\"skin/skin_defined\",\"skin/skin_opacity\",\"skin/skin_ajax\",\\n\"skin/skin_extra\",\"skin/skin_random\"],\"/js/opacity_mod-57b92b76b5.js\":[\"opacity/opacity_tpl\",\"opacity/opacity_action\",\"opacity/opacity_conf\"],\"/js/min_setting-c3f73c1e26.js\":[\"setting/setting_constructor\",\"setting/mod_drag\",\"setting/setting_action\"],\"/js/page_setting-499941684d.js\":[\"log/super_all\",\"setting/page_setting\",\"setting/tab_msg\",\"start/page_setting_start\",\"common/pop\",\"setting/yaohao\",\"msg/const\",\"setting/data_adapter\",\"msg/bind\",\"msg/bind_window\",\"setting/common_setting\"],\\n\"/js/s_super_index-855fcfd82e.js\":[\"ps/autohover_input\",\"page/ua_monitor\"],\"/js/min_mt-3df544d11c.js\":[\"msg/const\",\"msg/data_server\",\"msg/data_adapter\"],\"/js/mt_ext-4eee81afe1.js\":[\"msg/index_nav_msg_extend\",\"msg/msg_builder\",\"msg/bind\",\"msg/bind_window\"],\"/js/min_notice-816c20c940.js\":[\"mt/mt_show\",\"mt/mt_msg_constructor\"],\"/js/notice_ext-0bfec0da78.js\":[\"mt/mt_ext\",\"mt/mt_msg_item\",\"mt/mt_msg_operate\"],\"/js/ps/ishttps-8b74cccb13.js\":[\"ps/ishttps\"],\"/js/ps/async-destroy-f0bcd7cda7.js\":[\\n\"ps/async-destroy\"],\"/js/lib/exception-13bf584742.js\":[\"lib/exception\"],\"/js/lib/jquery-1-edb203c114.10.2.js\":[\"lib/jquery-1.10.2\"],\"/js/lib/esl-ef22c5ed31.js\":[\"lib/esl\"],\"/js/ps/yc-4c3e9b9cb3.js\":[\"ps/yc\"],\"/js/components/hotsearch-2a7ea8a5a8.js\":[\"components/hotsearch\"],\"/js/components/qrcode-da919182da.js\":[\"components/qrcode\"],\"/js/components/advert-957191b9be.js\":[\"components/advert\"],\"/js/components/nav-c3fe815932.js\":[\"components/nav\"],\"/js/components/tips-e2ceadd14d.js\":[\\n\"components/tips\"],\"/js/components/guide-8759cd328f.js\":[\"components/guide\"],\"/js/components/bbox/bbox-view-322dff347c.js\":[\"components/bbox/bbox_view.ts\",\"components/bbox/bbox_animate.ts\"],\"/css/super_ext-36b360db2f.css\":[\"mngr_quit_guid.css\"],\"/css/components/user_quit_dialog-527f3ede74.css\":[\"components/user_quit_dialog.css\"],\"/css/super_min-fe4f97903e.css\":[\"super_init.css\",\"skin.css\",\"super_skin.css\",\"select.css\",\"index_guide.css\"],\"/css/skin/skin_layer-6dcfdc6170.css\":[\\n\"skin/skin_layer.css\"],\"/css/guidetip-b41ed60c8a.css\":[\"guide.css\"],\"/css/nsguide-a66438b784.css\":[\"ns_guide.css\"],\"/css/setting_min-4dae12391e.css\":[\"setting.css\"],\"/css/card_setting-673b2943c1.css\":[\"card_setting.css\"],\"/css/page_setting-da9f239ab9.css\":[\"super_setting.css\",\"select.css\",\"setting_msg.css\",\"setting_yaohao.css\",\"pop.css\",\"dialog.css\"],\"/css/mt_min-88763bc1c9.css\":[\"mt_mod.css\",\"index_msg.css\"],\"/css/pages/index-289ac5a695.css\":[\"pages/index.css\",\"components/qrcode_new.css\"],\\n\"/css/pages/index_result-6cd495e677.css\":[\"pages/index_result.css\"],\"/css/pages/result-7014ae574c.css\":[\"pages/result.css\"],\"/css/pages/ps-1def49835c.css\":[\"pages/ps.css\",\"grid/grid.css\"],\"/css/weather/weather_new-5585ee28ba.css\":[\"weather/weather_new.css\",\"weather/weather_setting_new.css\"],\"/css/pages/common-a903d7e9b8.css\":[\"components/head_wrapper_new.css\",\"s_top_wrap_new.css\",\"components/topmenu_new.css\",\"bottom_layer.css\",\"components/blind_box.css\",\"popup_advert.css\"],\\n\"/css/components/hotsearch-edb10b7749.css\":[\"components/hotsearch.css\"],\"/css/components/nav-c468ec637c.css\":[\"components/nav.css\"]});window._xman_speed=window._xman_speed||{};F._setContext({base:\"lib/sbase\"});F.use(\"lib/mod_evt\",function(evt){F._setContextMethod(\"fire\",function(evtName,evtArgs){return evt.fire(this.svnMod+\":\"+this.modName,evtName,evtArgs)});F._setContextMethod(\"listen\",function(modName,evtName,handler){var mType=Object.prototype.toString.call(modName);if(\\nmType==\"[object String]\"){if(modName.indexOf(\":\")<0){modName=this.svnMod+\":\"+modName}}else if(mType==\"[object Array]\"){for(var i=0,len=modName.length;i<len;i++){if(modName[i].indexOf(\":\")<0){modName[i]=this.svnMod+\":\"+modName[i]}}}evt.on(modName,evtName,handler)});F._setContextMethod(\"unListen\",function(modName,evtName,handler){evt.un(this.svnMod+\":\"+this.modName,evtName,handler)})});F._loadScriptTimeout=15e3;F._useConfig=true;F._firstScreenCSS=F._firstScreenCSS||[];F._firstScreenCSS.push(\\n\"/css/super_min-fe4f97903e.css\");F._firstScreenJS=F._firstScreenJS||[];F._firstScreenJS.push(\"/js/min_super-55f966c1aa.js\");</script>\\r\\n<script>\\r\\n$(window).on(\"load\", function() {\\r\\n    var e = $(\\'#virus-2020\\');\\r\\n    e.click(function() {\\r\\n        $.setCookie(\\'virus-2020-clicked\\', \\'1\\');\\r\\n        e.removeClass(\\'dot\\');\\r\\n    });\\r\\n    var hasClicked = $.getCookie && $.getCookie(\\'virus-2020-clicked\\');\\r\\n    if (!hasClicked) {\\r\\n        e.addClass(\\'dot\\');\\r\\n    }\\r\\n});\\r\\n</script>\\r\\n    <script src=\"http://ss.bdimg.com/static/superman/js/s_super_index-855fcfd82e.js\"></script>\\n    <script src=\"http://ss.bdimg.com/static/superman/js/min_super-55f966c1aa.js\"></script>\\n     \\n                <script>\\n        if(navigator.cookieEnabled){\\n            document.cookie=\"NOJS=;expires=Sat, 01 Jan 2000 00:00:00 GMT\";\\n        }\\n        </script>\\n            \\n\\n            <script src=\"http://ss.bdimg.com/static/superman/js/components/hotsearch-2a7ea8a5a8.js\"></script>\\n        <script defer src=\"//hectorstatic.baidu.com/cd37ed75a9387c5b.js\"></script>\\n</body>\\n        \\n\\t</html>'\n"
     ]
    }
   ],
   "source": [
    "import urllib.request\n",
    "print(urllib.request.urlopen('http://www.baidu.com').read())"
   ]
  },
  {
   "cell_type": "code",
   "execution_count": 15,
   "metadata": {},
   "outputs": [
    {
     "output_type": "stream",
     "name": "stdout",
     "text": [
      "工作！\n",
      "工作！\n",
      "工作！\n",
      "工作！\n",
      "工作！\n",
      "工作！\n"
     ]
    },
    {
     "output_type": "error",
     "ename": "KeyboardInterrupt",
     "evalue": "",
     "traceback": [
      "\u001b[1;31m---------------------------------------------------------------------------\u001b[0m",
      "\u001b[1;31mKeyboardInterrupt\u001b[0m                         Traceback (most recent call last)",
      "\u001b[1;32m<ipython-input-15-a9a6f65a131f>\u001b[0m in \u001b[0;36m<module>\u001b[1;34m\u001b[0m\n\u001b[0;32m      5\u001b[0m \u001b[1;32mwhile\u001b[0m \u001b[1;32mTrue\u001b[0m\u001b[1;33m:\u001b[0m\u001b[1;33m\u001b[0m\u001b[1;33m\u001b[0m\u001b[0m\n\u001b[0;32m      6\u001b[0m     \u001b[0mschedule\u001b[0m\u001b[1;33m.\u001b[0m\u001b[0mrun_pending\u001b[0m\u001b[1;33m(\u001b[0m\u001b[1;33m)\u001b[0m\u001b[1;33m\u001b[0m\u001b[1;33m\u001b[0m\u001b[0m\n\u001b[1;32m----> 7\u001b[1;33m     \u001b[0mtime\u001b[0m\u001b[1;33m.\u001b[0m\u001b[0msleep\u001b[0m\u001b[1;33m(\u001b[0m\u001b[1;36m1\u001b[0m\u001b[1;33m)\u001b[0m\u001b[1;33m\u001b[0m\u001b[1;33m\u001b[0m\u001b[0m\n\u001b[0m",
      "\u001b[1;31mKeyboardInterrupt\u001b[0m: "
     ]
    }
   ],
   "source": [
    "import schedule\n",
    "def job():\n",
    "    print('工作！')\n",
    "schedule.every(3).seconds.do(job)\n",
    "while True:\n",
    "    schedule.run_pending()\n",
    "    time.sleep(1)"
   ]
  },
  {
   "cell_type": "code",
   "execution_count": null,
   "metadata": {},
   "outputs": [],
   "source": []
  }
 ]
}