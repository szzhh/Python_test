{
 "metadata": {
  "language_info": {
   "codemirror_mode": {
    "name": "ipython",
    "version": 3
   },
   "file_extension": ".py",
   "mimetype": "text/x-python",
   "name": "python",
   "nbconvert_exporter": "python",
   "pygments_lexer": "ipython3",
   "version": "3.8.5-final"
  },
  "orig_nbformat": 2,
  "kernelspec": {
   "name": "python3",
   "display_name": "Python 3",
   "language": "python"
  }
 },
 "nbformat": 4,
 "nbformat_minor": 2,
 "cells": [
  {
   "cell_type": "code",
   "execution_count": null,
   "metadata": {},
   "outputs": [],
   "source": [
    "r=range(0,101,10)\n",
    "print(r)\n",
    "print(list(r))"
   ]
  },
  {
   "cell_type": "code",
   "execution_count": null,
   "metadata": {},
   "outputs": [],
   "source": [
    "a,sum=1,0\n",
    "while a<=10:\n",
    "    print(a,end=' ')\n",
    "    sum+=a\n",
    "    a+=1\n",
    "print('\\n',sum)"
   ]
  },
  {
   "cell_type": "code",
   "execution_count": null,
   "metadata": {},
   "outputs": [],
   "source": [
    "n,sum=1,0\n",
    "while n<=100:\n",
    "    if not(n%2):\n",
    "        sum+=n\n",
    "    n+=1\n",
    "print('sum=',sum)"
   ]
  },
  {
   "cell_type": "code",
   "execution_count": null,
   "metadata": {},
   "outputs": [],
   "source": [
    "for item in range(0,101,10):\n",
    "    print(item,end=' ')"
   ]
  },
  {
   "cell_type": "code",
   "execution_count": null,
   "metadata": {},
   "outputs": [],
   "source": [
    "for _  in range(3):\n",
    "    print('szh')"
   ]
  },
  {
   "cell_type": "code",
   "execution_count": null,
   "metadata": {},
   "outputs": [],
   "source": [
    "for n in range(100,1000):\n",
    "    if n==((n%10)**3+(int(n/10)%10)**3+(int(n/100)%10)**3):\n",
    "        print('水仙花数：',n)"
   ]
  },
  {
   "cell_type": "code",
   "execution_count": null,
   "metadata": {},
   "outputs": [],
   "source": [
    "for item in range(3):\n",
    "    password=input('请输入密码：')\n",
    "    if password=='888':\n",
    "        print('登陆成功！')\n",
    "        break\n",
    "    print('密码输入错误，你还有'+str(2-item)+'次机会')\n",
    "    if item==2:\n",
    "        print('登陆失败！')\n",
    "    "
   ]
  },
  {
   "cell_type": "code",
   "execution_count": null,
   "metadata": {},
   "outputs": [],
   "source": [
    "for item in range(1,51):\n",
    "    if item%5!=0:\n",
    "        continue\n",
    "    print(item,end=' ')"
   ]
  },
  {
   "cell_type": "code",
   "execution_count": null,
   "metadata": {},
   "outputs": [],
   "source": [
    "for i in range(1,10):\n",
    "    for j in range(1,i+1):\n",
    "        print(str(i)+'*'+str(j)+'='+str(i*j),end='\\t ')\n",
    "    print()\n"
   ]
  },
  {
   "cell_type": "code",
   "execution_count": null,
   "metadata": {},
   "outputs": [],
   "source": [
    "list=['hello','world',100,'hello']\n",
    "print(list)\n",
    "print(id(list))\n",
    "print(type(list))\n",
    "print(list[2])\n",
    "print(list[-1])\n",
    "print(list.index('hello'))\n",
    "print(list.index('hello',1,4))\n",
    "print(len(list))"
   ]
  },
  {
   "cell_type": "code",
   "execution_count": null,
   "metadata": {},
   "outputs": [],
   "source": [
    "lst=[10,20,30,40,50,60,70,80]\n",
    "print(lst[1:6:1])\n",
    "print(lst[1:6:])\n",
    "print(lst[1:6:2])\n",
    "print(lst[:6:2])\n",
    "print(lst[1::2])\n",
    "print(lst[::-1])\n",
    "print(lst[6:0:-2])"
   ]
  },
  {
   "cell_type": "code",
   "execution_count": null,
   "metadata": {},
   "outputs": [],
   "source": [
    "for l in lst:\n",
    "    print(l,end='\\t')"
   ]
  },
  {
   "cell_type": "code",
   "execution_count": null,
   "metadata": {},
   "outputs": [],
   "source": [
    "lst.append(90)\n",
    "print(lst)"
   ]
  },
  {
   "cell_type": "code",
   "execution_count": null,
   "metadata": {},
   "outputs": [],
   "source": [
    "lst=[10,20,30,40,50,60,70,80]\n",
    "lst2=['hello','world']\n",
    "lst[1:3]=lst2\n",
    "print(lst)"
   ]
  },
  {
   "cell_type": "code",
   "execution_count": null,
   "metadata": {},
   "outputs": [],
   "source": [
    "lst=[10,20,30,40,50,60,70,80]\n",
    "lst.remove(10)\n",
    "print(lst)"
   ]
  },
  {
   "cell_type": "code",
   "execution_count": null,
   "metadata": {},
   "outputs": [],
   "source": [
    "lst=[10,20,30,40,50,60,70,80]\n",
    "lst.pop(1)\n",
    "print(lst)\n",
    "lst.clear()\n",
    "print(lst)\n",
    "del lst #删除lst对象\n",
    "#print(lst)"
   ]
  },
  {
   "cell_type": "code",
   "execution_count": null,
   "metadata": {},
   "outputs": [],
   "source": [
    "lst=[40,30,20,70,50,80,60]\n",
    "lst.sort(reverse=True)\n",
    "print(lst)"
   ]
  },
  {
   "cell_type": "code",
   "execution_count": 48,
   "metadata": {},
   "outputs": [
    {
     "output_type": "stream",
     "name": "stdout",
     "text": [
      "[80, 70, 60, 50, 40, 30, 20]\n"
     ]
    }
   ],
   "source": [
    "lst=[40,30,20,70,50,80,60]\n",
    "new_lst=sorted(lst,reverse=True)\n",
    "print(new_lst)"
   ]
  },
  {
   "cell_type": "code",
   "execution_count": 3,
   "metadata": {},
   "outputs": [
    {
     "output_type": "stream",
     "name": "stdout",
     "text": [
      "[1, 4, 9, 16, 25, 36, 49, 64, 81]\n9\n"
     ]
    }
   ],
   "source": [
    "lst=[i**2 for i in range(1,10)]\n",
    "print(lst)\n",
    "print(len(lst))"
   ]
  },
  {
   "cell_type": "code",
   "execution_count": null,
   "metadata": {},
   "outputs": [],
   "source": []
  }
 ]
}