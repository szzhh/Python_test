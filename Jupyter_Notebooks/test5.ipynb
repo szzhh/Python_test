{
 "metadata": {
  "language_info": {
   "codemirror_mode": {
    "name": "ipython",
    "version": 3
   },
   "file_extension": ".py",
   "mimetype": "text/x-python",
   "name": "python",
   "nbconvert_exporter": "python",
   "pygments_lexer": "ipython3",
   "version": "3.8.5-final"
  },
  "orig_nbformat": 2,
  "kernelspec": {
   "name": "python3",
   "display_name": "Python 3",
   "language": "python"
  }
 },
 "nbformat": 4,
 "nbformat_minor": 2,
 "cells": [
  {
   "cell_type": "code",
   "execution_count": 1,
   "metadata": {},
   "outputs": [
    {
     "output_type": "stream",
     "name": "stdout",
     "text": [
      "python 1530756714928\npython 1530756714928\npython 1530756714928\n"
     ]
    }
   ],
   "source": [
    "#字符串\n",
    "a='python'\n",
    "b=\"python\"\n",
    "c='''python'''\n",
    "print(a,id(a))\n",
    "print(b,id(b))\n",
    "print(c,id(c))"
   ]
  },
  {
   "cell_type": "code",
   "execution_count": 3,
   "metadata": {},
   "outputs": [
    {
     "output_type": "stream",
     "name": "stdout",
     "text": [
      "False\nTrue\n"
     ]
    }
   ],
   "source": [
    "s1='abc%'\n",
    "s2='abc%'\n",
    "print(s1 is s2)\n",
    "import sys\n",
    "s1=sys.intern(s2)\n",
    "print(s1 is s2)"
   ]
  },
  {
   "cell_type": "code",
   "execution_count": 8,
   "metadata": {},
   "outputs": [
    {
     "output_type": "stream",
     "name": "stdout",
     "text": [
      "HELLO PYTHON\nhello python\nhELLO pYTHON\nHello Python\n"
     ]
    }
   ],
   "source": [
    "s='Hello Python'\n",
    "s1=s.upper()\n",
    "s2=s.lower()\n",
    "s3=s.swapcase()\n",
    "s4=s3.title()\n",
    "print(s1)\n",
    "print(s2)\n",
    "print(s3)\n",
    "print(s4)"
   ]
  },
  {
   "cell_type": "code",
   "execution_count": 25,
   "metadata": {},
   "outputs": [
    {
     "output_type": "stream",
     "name": "stdout",
     "text": [
      "********************************************Hello Python********************************************\nHello Python****************************************************************************************\n****************************************************************************************Hello Python\n00000000000000000000000000000000000000000000000000000000000000000000Hello Python\n-000008910\n"
     ]
    }
   ],
   "source": [
    "s='Hello Python'\n",
    "print(s.center(100,'*'))\n",
    "print(s.ljust(100,'*'))\n",
    "print(s.rjust(100,'*'))\n",
    "print(s.zfill(80))\n",
    "print('-8910'.zfill(10))"
   ]
  },
  {
   "cell_type": "code",
   "execution_count": 33,
   "metadata": {},
   "outputs": [
    {
     "output_type": "stream",
     "name": "stdout",
     "text": [
      "['hello', 'world', 'python']\n['hello', 'world|python']\n['hello', 'world', 'python']\n['hello|world', 'python']\n"
     ]
    }
   ],
   "source": [
    "s='hello|world|python'\n",
    "print(s.split(sep='|'))\n",
    "print(s.split(sep='|',maxsplit=1))\n",
    "print(s.rsplit(sep='|'))\n",
    "print(s.rsplit(sep='|',maxsplit=1))"
   ]
  },
  {
   "cell_type": "code",
   "execution_count": 37,
   "metadata": {},
   "outputs": [
    {
     "output_type": "stream",
     "name": "stdout",
     "text": [
      "False\nTrue\n"
     ]
    }
   ],
   "source": [
    "s='hello,python'\n",
    "print(s.isidentifier())\n",
    "print('孙重豪_1'.isidentifier())"
   ]
  },
  {
   "cell_type": "code",
   "execution_count": 39,
   "metadata": {},
   "outputs": [
    {
     "output_type": "stream",
     "name": "stdout",
     "text": [
      "hello Python\n"
     ]
    }
   ],
   "source": [
    "s='hello python'\n",
    "print(s.replace('p','P'))"
   ]
  },
  {
   "cell_type": "code",
   "execution_count": 50,
   "metadata": {},
   "outputs": [
    {
     "output_type": "stream",
     "name": "stdout",
     "text": [
      "hello&world&python <class 'str'>\np*y*t*h*o*n\n12\n"
     ]
    }
   ],
   "source": [
    "lst=['hello','world','python'] #此处为列表，用元组也可以\n",
    "s='&'.join(lst)\n",
    "print(s,type(s))\n",
    "print('*'.join('python'))\n",
    "print(s.find('py'))"
   ]
  },
  {
   "cell_type": "code",
   "execution_count": 60,
   "metadata": {},
   "outputs": [
    {
     "output_type": "stream",
     "name": "stdout",
     "text": [
      "True\n97 65\n"
     ]
    }
   ],
   "source": [
    "print('apple'>'app')\n",
    "print(ord('a'),ord('A'))"
   ]
  },
  {
   "cell_type": "code",
   "execution_count": 67,
   "metadata": {},
   "outputs": [
    {
     "output_type": "stream",
     "name": "stdout",
     "text": [
      "hlo\nph\nhlo,ph!\np,olleh\n"
     ]
    }
   ],
   "source": [
    "s='hello,python'\n",
    "s1=s[:5:2]\n",
    "s2=s[6::3]\n",
    "news=s1+','+s2+'!'\n",
    "print(s1)\n",
    "print(s2)\n",
    "print(news)\n",
    "print(s[-6::-1])"
   ]
  },
  {
   "cell_type": "code",
   "execution_count": 78,
   "metadata": {},
   "outputs": [
    {
     "output_type": "stream",
     "name": "stdout",
     "text": [
      "我叫张三,今年20岁!\n我的名字是张三，今年20岁，我叫张三！\n我叫张三,今年20岁!\n"
     ]
    }
   ],
   "source": [
    "name='张三'\n",
    "age=20\n",
    "print('我叫%s,今年%d岁!' % (name,age))\n",
    "print('我的名字是{0}，今年{1}岁，我叫{0}！'.format(name,age))\n",
    "print(f'我叫{name},今年{age}岁!')"
   ]
  },
  {
   "cell_type": "code",
   "execution_count": 74,
   "metadata": {},
   "outputs": [
    {
     "output_type": "stream",
     "name": "stdout",
     "text": [
      "我叫张三,今年18岁!\n我叫李四,今年19岁!\n我叫王五,今年20岁!\n"
     ]
    }
   ],
   "source": [
    "dic={'张三':18,'李四':19,'王五':20}\n",
    "for name,age in dic.items():\n",
    "    print(f'我叫{name},今年{age}岁!')"
   ]
  },
  {
   "cell_type": "code",
   "execution_count": 83,
   "metadata": {},
   "outputs": [
    {
     "output_type": "stream",
     "name": "stdout",
     "text": [
      "b'\\xcb\\xef\\xd6\\xd8\\xba\\xc0'\nb'\\xe5\\xad\\x99\\xe9\\x87\\x8d\\xe8\\xb1\\xaa'\n孙重豪\n孙重豪\n"
     ]
    }
   ],
   "source": [
    "s='孙重豪'\n",
    "print(s.encode(encoding='GBK'))\n",
    "print(s.encode(encoding='UTF_8'))\n",
    "byte=s.encode(encoding='GBK')\n",
    "print(byte.decode(encoding='GBK'))\n",
    "byte=s.encode(encoding='UTF-8')\n",
    "print(byte.decode(encoding='UTF-8'))"
   ]
  },
  {
   "cell_type": "code",
   "execution_count": null,
   "metadata": {},
   "outputs": [],
   "source": []
  }
 ]
}