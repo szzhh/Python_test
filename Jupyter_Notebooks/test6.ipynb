{
 "metadata": {
  "language_info": {
   "codemirror_mode": {
    "name": "ipython",
    "version": 3
   },
   "file_extension": ".py",
   "mimetype": "text/x-python",
   "name": "python",
   "nbconvert_exporter": "python",
   "pygments_lexer": "ipython3",
   "version": "3.8.5"
  },
  "orig_nbformat": 2,
  "kernelspec": {
   "name": "python3",
   "display_name": "Python 3",
   "language": "python"
  }
 },
 "nbformat": 4,
 "nbformat_minor": 2,
 "cells": [
  {
   "cell_type": "code",
   "execution_count": 2,
   "metadata": {},
   "outputs": [
    {
     "output_type": "stream",
     "name": "stdout",
     "text": [
      "5\n"
     ]
    }
   ],
   "source": [
    "#函数\n",
    "def calc(a,b):\n",
    "    return a+b\n",
    "print(calc(b=2,a=3))"
   ]
  },
  {
   "cell_type": "code",
   "execution_count": 3,
   "metadata": {},
   "outputs": [],
   "source": [
    "fp=open('D:/test.txt','w')\n",
    "print('孙重豪永远是第一！！！',file=fp)\n",
    "fp.close()"
   ]
  },
  {
   "cell_type": "code",
   "execution_count": 4,
   "metadata": {},
   "outputs": [],
   "source": [
    "with open('D:/test1.txt','w') as file:\n",
    "    file.write('孙重豪永远是第一！！！')"
   ]
  },
  {
   "cell_type": "code",
   "execution_count": 5,
   "metadata": {},
   "outputs": [
    {
     "output_type": "stream",
     "name": "stdout",
     "text": [
      "n1= 11\nn2= [22, 33, 44] 2890285539264\narg1= 11\narg2= [22, 33, 44]\narg1= 100\narg2= [22, 33, 44, 100] 2890285539264\nn1= 11\nn2= [22, 33, 44, 100] 2890285539264\n"
     ]
    }
   ],
   "source": [
    "def fun(arg1,arg2):\n",
    "    print('arg1=',arg1)\n",
    "    print('arg2=',arg2)\n",
    "    arg1=100\n",
    "    arg2.append(100)\n",
    "    print('arg1=',arg1)\n",
    "    print('arg2=',arg2,id(arg2))\n",
    "n1=11\n",
    "n2=[22,33,44]\n",
    "print('n1=',n1)\n",
    "print('n2=',n2,id(n2))\n",
    "fun(n1,n2)\n",
    "print('n1=',n1)\n",
    "print('n2=',n2,id(n2))"
   ]
  },
  {
   "cell_type": "code",
   "execution_count": 6,
   "metadata": {},
   "outputs": [
    {
     "output_type": "stream",
     "name": "stdout",
     "text": [
      "([29, 23, 53, 55], [10, 34, 44])\n奇数为： [29, 23, 53, 55]\n偶数为： [10, 34, 44]\n"
     ]
    }
   ],
   "source": [
    "def fun(num):\n",
    "    odd=[]\n",
    "    even=[]\n",
    "    for i in num:\n",
    "        if i%2:\n",
    "            odd.append(i)\n",
    "        else:\n",
    "            even.append(i)\n",
    "    return odd,even\n",
    "lst=[10,29,34,23,44,53,55]\n",
    "print(fun(lst))\n",
    "print('奇数为：',fun(lst)[0])\n",
    "print('偶数为：',fun(lst)[1])"
   ]
  },
  {
   "cell_type": "code",
   "execution_count": 7,
   "metadata": {},
   "outputs": [
    {
     "output_type": "stream",
     "name": "stdout",
     "text": [
      "a= 10  b= 10\na= 20  b= 30\n"
     ]
    }
   ],
   "source": [
    "def fun(a,b=10):\n",
    "    print('a=',a,' b=',b)\n",
    "fun(10)\n",
    "fun(20,30)"
   ]
  },
  {
   "cell_type": "code",
   "execution_count": 8,
   "metadata": {},
   "outputs": [
    {
     "output_type": "stream",
     "name": "stdout",
     "text": [
      "10\t\n20\t30\t40\t\n"
     ]
    }
   ],
   "source": [
    "def fun(*args):\n",
    "    for a in args:\n",
    "        print(a,end='\\t')\n",
    "    print()\n",
    "fun(10)\n",
    "fun(20,30,40)"
   ]
  },
  {
   "cell_type": "code",
   "execution_count": 9,
   "metadata": {},
   "outputs": [
    {
     "output_type": "stream",
     "name": "stdout",
     "text": [
      "{'a': 10}\n{'a': 20, 'b': 30, 'c': 40}\n"
     ]
    }
   ],
   "source": [
    "def fun(**args):\n",
    "    print(args)\n",
    "fun(a=10)\n",
    "fun(a=20,b=30,c=40)"
   ]
  },
  {
   "cell_type": "code",
   "execution_count": 10,
   "metadata": {},
   "outputs": [
    {
     "output_type": "stream",
     "name": "stdout",
     "text": [
      "arg1= 10\narg2= 20\narg3= 30\narg1= 50\narg2= 60\narg3= 70\n"
     ]
    }
   ],
   "source": [
    "def fun(arg1,arg2,arg3):\n",
    "    print('arg1=',arg1)\n",
    "    print('arg2=',arg2)\n",
    "    print('arg3=',arg3)\n",
    "lst=[10,20,30]\n",
    "dic={'arg1':50,'arg2':60,'arg3':70}\n",
    "fun(*lst)\n",
    "fun(**dic)"
   ]
  },
  {
   "cell_type": "code",
   "execution_count": 32,
   "metadata": {},
   "outputs": [
    {
     "output_type": "stream",
     "name": "stdout",
     "text": [
      "6!=720\n"
     ]
    }
   ],
   "source": [
    "#递归函数\n",
    "def fac(n):\n",
    "    if n!=1:\n",
    "        return n*fac(n-1)\n",
    "    else:\n",
    "        return 1\n",
    "n=6\n",
    "print('%d!=%d' % (n,fac(n)))"
   ]
  },
  {
   "source": [
    "#斐波那契数列\n",
    "def fib(n):\n",
    "    if n==1 or n==2:\n",
    "        return 1\n",
    "    else:\n",
    "        return fib(n-1)+fib(n-2)\n",
    "for i in range(1,7):\n",
    "    print('第%d个斐波那契数为%d' % (i,fib(i)))"
   ],
   "cell_type": "code",
   "metadata": {},
   "execution_count": 30,
   "outputs": [
    {
     "output_type": "stream",
     "name": "stdout",
     "text": [
      "第1个斐波那契数为1\n第2个斐波那契数为1\n第3个斐波那契数为2\n第4个斐波那契数为3\n第5个斐波那契数为5\n第6个斐波那契数为8\n"
     ]
    }
   ]
  },
  {
   "cell_type": "code",
   "execution_count": null,
   "metadata": {},
   "outputs": [],
   "source": []
  }
 ]
}