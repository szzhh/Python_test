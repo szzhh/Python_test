{
 "metadata": {
  "language_info": {
   "codemirror_mode": {
    "name": "ipython",
    "version": 3
   },
   "file_extension": ".py",
   "mimetype": "text/x-python",
   "name": "python",
   "nbconvert_exporter": "python",
   "pygments_lexer": "ipython3",
   "version": "3.8.5-final"
  },
  "orig_nbformat": 2,
  "kernelspec": {
   "name": "python3",
   "display_name": "Python 3",
   "language": "python"
  }
 },
 "nbformat": 4,
 "nbformat_minor": 2,
 "cells": [
  {
   "cell_type": "code",
   "execution_count": 1,
   "metadata": {},
   "outputs": [
    {
     "output_type": "stream",
     "name": "stdout",
     "text": [
      "{2, 3, 4, 5, 6, 7}\n"
     ]
    }
   ],
   "source": [
    "#集合\n",
    "s={2,3,4,5,5,6,7,7}\n",
    "print(s)\n"
   ]
  },
  {
   "cell_type": "code",
   "execution_count": 2,
   "metadata": {},
   "outputs": [
    {
     "output_type": "stream",
     "name": "stdout",
     "text": [
      "{0, 1, 2, 3, 4, 5}\n"
     ]
    }
   ],
   "source": [
    "s=set(range(6))\n",
    "print(s)"
   ]
  },
  {
   "cell_type": "code",
   "execution_count": 3,
   "metadata": {},
   "outputs": [
    {
     "output_type": "stream",
     "name": "stdout",
     "text": [
      "{1, 2, 3, 4, 5, 6}\n"
     ]
    }
   ],
   "source": [
    "s=set([1,2,2,3,4,5,5,6,6])\n",
    "print(s)"
   ]
  },
  {
   "cell_type": "code",
   "execution_count": 8,
   "metadata": {},
   "outputs": [
    {
     "output_type": "stream",
     "name": "stdout",
     "text": [
      "{'y', 't', 'n', 'o', 'p', 'h'}\n"
     ]
    }
   ],
   "source": [
    "s=set('python')\n",
    "print(s)"
   ]
  },
  {
   "cell_type": "code",
   "execution_count": 6,
   "metadata": {},
   "outputs": [
    {
     "output_type": "stream",
     "name": "stdout",
     "text": [
      "True\nTrue\n"
     ]
    }
   ],
   "source": [
    "s={1,2,3,4,5}\n",
    "print(3 in s)\n",
    "print(6 not in s)"
   ]
  },
  {
   "cell_type": "code",
   "execution_count": 22,
   "metadata": {},
   "outputs": [
    {
     "output_type": "stream",
     "name": "stdout",
     "text": [
      "{1, 2, 3, 5, 6, 7, 8, 9, 11}\n{1, 2, 3, 5, 6, 7, 8, 9, 11, 15, 16, 18, 20}\n"
     ]
    }
   ],
   "source": [
    "s={1,2,3,7,5}\n",
    "s.add(11) #一次添加一个\n",
    "s.update({6,8,9}) #一次至少添加一个\n",
    "print(s)\n",
    "s.update([20,15])\n",
    "s.update((16,18))\n",
    "print(s)"
   ]
  },
  {
   "cell_type": "code",
   "execution_count": 29,
   "metadata": {},
   "outputs": [
    {
     "output_type": "stream",
     "name": "stdout",
     "text": [
      "{3, 5, 6, 7, 8, 9, 15, 16, 18, 20}\n{5, 6, 7, 8, 9, 15, 16, 18, 20}\nset()\n"
     ]
    }
   ],
   "source": [
    "s.discard(11)\n",
    "print(s)\n",
    "s.pop()\n",
    "print(s)\n",
    "s.clear()\n",
    "print(s)"
   ]
  },
  {
   "cell_type": "code",
   "execution_count": 30,
   "metadata": {},
   "outputs": [
    {
     "output_type": "stream",
     "name": "stdout",
     "text": [
      "True\n"
     ]
    }
   ],
   "source": [
    "s1={10,20,30,40}\n",
    "s2={30,40,20,10}\n",
    "print(s1==s2)"
   ]
  },
  {
   "cell_type": "code",
   "execution_count": 35,
   "metadata": {},
   "outputs": [
    {
     "output_type": "stream",
     "name": "stdout",
     "text": [
      "True\nFalse\nTrue\nFalse\nFalse\n"
     ]
    }
   ],
   "source": [
    "s1={10,20,30,40,50,60}\n",
    "s2={10,20,30,40}\n",
    "s3={10,20,90}\n",
    "print(s2.issubset(s1))\n",
    "print(s3.issubset(s1))\n",
    "print(s1.issuperset(s2))\n",
    "print(s1.issuperset(s3))\n",
    "print(s1.isdisjoint(s3))"
   ]
  },
  {
   "cell_type": "code",
   "execution_count": 47,
   "metadata": {},
   "outputs": [
    {
     "output_type": "stream",
     "name": "stdout",
     "text": [
      "{40, 10, 20, 30}\n{40, 10, 50, 20, 60, 30}\n{10, 20}\n{40, 10, 50, 20, 90, 60, 30}\n{90}\n{90}\n{40, 90, 30}\n{40, 90, 30}\n"
     ]
    }
   ],
   "source": [
    "s1={10,20,30,40,50,60}\n",
    "s2={10,20,30,40}\n",
    "s3={10,20,90}\n",
    "print(s1.intersection(s2))\n",
    "print(s1.union(s2))\n",
    "print(s2 & s3)\n",
    "print(s1 | s3)\n",
    "print(s3.difference(s2))\n",
    "print(s3- s2)\n",
    "print(s2.symmetric_difference(s3))\n",
    "print(s2^s3)"
   ]
  },
  {
   "cell_type": "code",
   "execution_count": 57,
   "metadata": {},
   "outputs": [
    {
     "output_type": "stream",
     "name": "stdout",
     "text": [
      "[0, 1, 4, 9, 16, 25]\n{0, 1, 64, 4, 36, 9, 16, 49, 81, 25}\n"
     ]
    }
   ],
   "source": [
    "lst=[i*i for i in range(6)]\n",
    "print(lst)\n",
    "s={i*i for i in range(10)}\n",
    "print(s)"
   ]
  },
  {
   "cell_type": "code",
   "execution_count": null,
   "metadata": {},
   "outputs": [],
   "source": []
  }
 ]
}