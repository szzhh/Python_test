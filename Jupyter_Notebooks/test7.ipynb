{
 "metadata": {
  "language_info": {
   "codemirror_mode": {
    "name": "ipython",
    "version": 3
   },
   "file_extension": ".py",
   "mimetype": "text/x-python",
   "name": "python",
   "nbconvert_exporter": "python",
   "pygments_lexer": "ipython3",
   "version": "3.8.5-final"
  },
  "orig_nbformat": 2,
  "kernelspec": {
   "name": "python3",
   "display_name": "Python 3",
   "language": "python"
  }
 },
 "nbformat": 4,
 "nbformat_minor": 2,
 "cells": [
  {
   "cell_type": "code",
   "execution_count": 13,
   "metadata": {},
   "outputs": [],
   "source": [
    "#类与对象\n",
    "class Student:\n",
    "    native_place='河南' #类属性\n",
    "    def __init__(self,name,age):\n",
    "        self.name=name #实体属性\n",
    "        self.age=age\n",
    "    def eat(self):\n",
    "        print('实例方法！')\n",
    "    @classmethod\n",
    "    def cm(cls):\n",
    "        print('类方法！')\n",
    "    @staticmethod\n",
    "    def method():\n",
    "        print('静态方法！')"
   ]
  },
  {
   "cell_type": "code",
   "execution_count": 14,
   "metadata": {},
   "outputs": [
    {
     "output_type": "stream",
     "name": "stdout",
     "text": [
      "河南\n类方法！\n实例方法！\n静态方法！\n实例方法！\n"
     ]
    }
   ],
   "source": [
    "stu1=Student('张三',21)\n",
    "print(stu1.native_place)\n",
    "stu1.cm()\n",
    "stu1.eat()\n",
    "stu1.method()\n",
    "Student.eat(stu1)"
   ]
  },
  {
   "cell_type": "code",
   "execution_count": 9,
   "metadata": {},
   "outputs": [
    {
     "output_type": "stream",
     "name": "stdout",
     "text": [
      "张三 20 岁了！\n李四 21 岁了！\n张三 20\n李四 21 女\n类外函数！\n"
     ]
    }
   ],
   "source": [
    "class Student:\n",
    "    native_place='河南' #类属性\n",
    "    def __init__(self,name,age):\n",
    "        self.name=name #实体属性\n",
    "        self.age=age\n",
    "    def eat(self):\n",
    "        print(self.name,self.age,'岁了！')\n",
    "stu1=Student('张三',20)\n",
    "stu2=Student('李四',21)\n",
    "stu2.gender='女'\n",
    "stu1.eat()\n",
    "stu2.eat()\n",
    "print(stu1.name,stu1.age)\n",
    "print(stu2.name,stu2.age,stu2.gender)\n",
    "def show():\n",
    "    print('类外函数！')\n",
    "stu1.show=show\n",
    "stu1.show()"
   ]
  },
  {
   "cell_type": "code",
   "execution_count": 11,
   "metadata": {},
   "outputs": [
    {
     "output_type": "stream",
     "name": "stdout",
     "text": [
      "宝马 汽车已经启动····\n"
     ]
    }
   ],
   "source": [
    "class Car():\n",
    "    def __init__(self,brand):\n",
    "        self.brand=brand\n",
    "    def start(self):\n",
    "        print(self.brand,'汽车已经启动····')\n",
    "car=Car('宝马')\n",
    "car.start()"
   ]
  },
  {
   "cell_type": "code",
   "execution_count": 17,
   "metadata": {},
   "outputs": [
    {
     "output_type": "stream",
     "name": "stdout",
     "text": [
      "张三 20 岁了！\n张三\n20\n['_Student__age', '__class__', '__delattr__', '__dict__', '__dir__', '__doc__', '__eq__', '__format__', '__ge__', '__getattribute__', '__gt__', '__hash__', '__init__', '__init_subclass__', '__le__', '__lt__', '__module__', '__ne__', '__new__', '__reduce__', '__reduce_ex__', '__repr__', '__setattr__', '__sizeof__', '__str__', '__subclasshook__', '__weakref__', 'name', 'native_place', 'show']\n"
     ]
    }
   ],
   "source": [
    "class Student:\n",
    "    native_place='河南' #类属性\n",
    "    def __init__(self,name,age):\n",
    "        self.name=name #实体属性\n",
    "        self.__age=age\n",
    "    def show(self):\n",
    "        print(self.name,self.__age,'岁了！')\n",
    "stu=Student('张三',20)\n",
    "stu.show()\n",
    "print(stu.name)\n",
    "print(stu._Student__age)\n",
    "print(dir(stu))"
   ]
  },
  {
   "cell_type": "code",
   "execution_count": 42,
   "metadata": {},
   "outputs": [
    {
     "output_type": "stream",
     "name": "stdout",
     "text": [
      "张三 16 2020\n李四 30 10\n{'name': '张三', 'age': 16, 'stu_nb': 2020}\n<class '__main__.Student'>\n<class '__main__.Person'>\n(<class '__main__.Student'>, <class '__main__.Person'>, <class 'object'>)\n[<class '__main__.Student'>, <class '__main__.Teacher'>]\n"
     ]
    }
   ],
   "source": [
    "#继承与方法重写\n",
    "class Person(object):\n",
    "    def __init__(self,name,age):\n",
    "        self.name=name\n",
    "        self.age=age\n",
    "    def info(self):\n",
    "        print(self.name,self.age,end=' ')\n",
    "    \n",
    "class Student(Person):\n",
    "    def __init__(self,name,age,stu_nb):\n",
    "        super().__init__(name,age)\n",
    "        self.stu_nb=stu_nb\n",
    "    def info(self):\n",
    "        super().info()\n",
    "        print(self.stu_nb)\n",
    "class Teacher(Person):\n",
    "    def __init__(self,name,age,tfy):\n",
    "        super().__init__(name,age)\n",
    "        self.tfy=tfy\n",
    "    def info(self):\n",
    "        super().info()\n",
    "        print(self.tfy)\n",
    "stu=Student('张三',16,2020)\n",
    "tch=Teacher('李四',30,10)\n",
    "stu.info()\n",
    "tch.info()\n",
    "print(stu.__dict__)\n",
    "print(stu.__class__)\n",
    "print(Student.__base__)\n",
    "print(Student.__mro__)\n",
    "print(Person.__subclasses__())"
   ]
  },
  {
   "cell_type": "code",
   "execution_count": 33,
   "metadata": {},
   "outputs": [
    {
     "output_type": "stream",
     "name": "stdout",
     "text": [
      "动物会吃！\n狗吃骨头！\n猫吃小鱼！\n人吃粮食！\n<class '__main__.Cat'>\n"
     ]
    }
   ],
   "source": [
    "class Animal(object):\n",
    "    def eat(self):\n",
    "        print('动物会吃！')\n",
    "class Dog(Animal):\n",
    "    def eat(self):\n",
    "        print('狗吃骨头！')\n",
    "class Cat(Animal):\n",
    "    def eat(self):\n",
    "        print('猫吃小鱼！')\n",
    "class Person(object):\n",
    "    def eat(self):\n",
    "        print('人吃粮食！')\n",
    "def show(animal):\n",
    "    animal.eat()\n",
    "show(Animal())\n",
    "show(Dog())\n",
    "show(Cat())\n",
    "show(Person())\n",
    "print(Cat().__class__)"
   ]
  },
  {
   "cell_type": "code",
   "execution_count": 54,
   "metadata": {},
   "outputs": [
    {
     "output_type": "stream",
     "name": "stdout",
     "text": [
      "张三和李四\n张三和李四\n2\n2\n"
     ]
    }
   ],
   "source": [
    "#类比重载运算符\n",
    "class Student:\n",
    "    def __init__(self,name):\n",
    "        self.name=name\n",
    "    def __add__(self,other):\n",
    "        return self.name+'和'+other.name\n",
    "    def __len__(self):\n",
    "        return len(self.name)\n",
    "stu1=Student('张三')\n",
    "stu2=Student('李四')\n",
    "print(stu1+stu2)\n",
    "print(stu1.__add__(stu2))\n",
    "print(stu1.__len__())\n",
    "print(len(stu2))"
   ]
  },
  {
   "cell_type": "code",
   "execution_count": 1,
   "metadata": {},
   "outputs": [
    {
     "output_type": "stream",
     "name": "stdout",
     "text": [
      "object类对象的id值为140728583895888\nPerson类对象的id值为2618745318192\n__new__被调用执行了，cls的id值为2618745318192\n创建的对象的id为：2618752678064\n__init__方法被调用执行了，self的id值为2618752678064\np实例对象的id值为2618752678064\n"
     ]
    }
   ],
   "source": [
    "class Person(object):\n",
    "    def __new__(cls,*args,**kwargs):\n",
    "        print('__new__被调用执行了，cls的id值为{0}'.format(id(cls)))\n",
    "        obj=super().__new__(cls)\n",
    "        print('创建的对象的id为：{0}'.format(id(obj)))\n",
    "        return obj\n",
    "    def __init__(self,name,age):\n",
    "        print('__init__方法被调用执行了，self的id值为{0}'.format(id(self)))\n",
    "        self.name=name\n",
    "        self.age=age\n",
    "print('object类对象的id值为{0}'.format(id(object)))\n",
    "print('Person类对象的id值为{0}'.format(id(Person)))\n",
    "p=Person('张三',20)\n",
    "print('p实例对象的id值为{0}'.format(id(p)))"
   ]
  },
  {
   "cell_type": "code",
   "execution_count": 4,
   "metadata": {},
   "outputs": [
    {
     "output_type": "stream",
     "name": "stdout",
     "text": [
      "<__main__.CPU object at 0x00000261BA9C7490>\n<__main__.CPU object at 0x00000261BA9C7490>\n<__main__.Computer object at 0x00000261BB179F40> <__main__.CPU object at 0x00000261BA9C7490> <__main__.Disk object at 0x00000261BB1794F0>\n<__main__.Computer object at 0x00000261BB7DB400> <__main__.CPU object at 0x00000261BA9C7490> <__main__.Disk object at 0x00000261BB1794F0>\n<__main__.Computer object at 0x00000261BB7DBCA0> <__main__.CPU object at 0x00000261BB7DBF40> <__main__.Disk object at 0x00000261BB7DB9D0>\n"
     ]
    }
   ],
   "source": [
    "class CPU:\n",
    "    pass\n",
    "class Disk:\n",
    "    pass\n",
    "class Computer:\n",
    "    def __init__(self,cpu,disk):\n",
    "        self.cpu=cpu\n",
    "        self.disk=disk\n",
    "\n",
    "cpu1=CPU()\n",
    "cpu2=cpu1\n",
    "print(cpu1)\n",
    "print(cpu2)\n",
    "disk=Disk()\n",
    "computer=Computer(cpu1,disk)\n",
    "import copy\n",
    "computer2=copy.copy(computer)#浅拷贝\n",
    "computer3=copy.deepcopy(computer)#深拷贝\n",
    "print(computer,computer.cpu,computer.disk)\n",
    "print(computer2,computer2.cpu,computer2.disk)\n",
    "print(computer3,computer3.cpu,computer3.disk)"
   ]
  },
  {
   "cell_type": "code",
   "execution_count": null,
   "metadata": {},
   "outputs": [],
   "source": []
  }
 ]
}