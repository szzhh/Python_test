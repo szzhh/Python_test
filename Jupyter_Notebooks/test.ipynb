{
 "cells": [
  {
   "cell_type": "code",
   "execution_count": 1,
   "metadata": {},
   "outputs": [
    {
     "name": "stdout",
     "output_type": "stream",
     "text": [
      "Support CUDA ?:  True\n",
      "tensor([10.], device='cuda:0')\n",
      "tensor([[ 0.6967,  0.1682, -0.8440],\n",
      "        [-0.6793,  0.4362, -1.0806]], device='cuda:0')\n",
      "tensor([[10.6967, 10.1682,  9.1560],\n",
      "        [ 9.3207, 10.4362,  8.9194]], device='cuda:0')\n",
      "Support cudnn ?:  True\n"
     ]
    }
   ],
   "source": [
    "#cat test_gpu.py\n",
    "import torch\n",
    " \n",
    "if __name__ == '__main__':\n",
    "    #测试 CUDA\n",
    "    print(\"Support CUDA ?: \", torch.cuda.is_available())\n",
    "    x = torch.tensor([10.0])\n",
    "    x = x.cuda()\n",
    "    print(x)\n",
    " \n",
    "    y = torch.randn(2, 3)\n",
    "    y = y.cuda()\n",
    "    print(y)\n",
    " \n",
    "    z = x + y\n",
    "    print(z)\n",
    " \n",
    "   # 测试 CUDNN\n",
    "    from torch.backends import cudnn\n",
    "    print(\"Support cudnn ?: \",cudnn.is_acceptable(x))"
   ]
  },
  {
   "cell_type": "code",
   "execution_count": null,
   "metadata": {},
   "outputs": [],
   "source": [
    "import torch\n",
    "print(torch.eye(2,2))\n",
    "print(torch.zeros(2,3))\n",
    "print(torch.linspace(1,10,4))\n",
    "print(torch.rand(2,3))\n",
    "print(torch.randn(2,3))\n",
    "print(torch.zeros_like(torch.rand(2,3)))"
   ]
  },
  {
   "cell_type": "code",
   "execution_count": 9,
   "metadata": {
    "tags": []
   },
   "outputs": [
    {
     "name": "stdout",
     "output_type": "stream",
     "text": [
      "89\n"
     ]
    }
   ],
   "source": [
    "import random\n",
    "#r = random.sample(set([1, 2, 3, 4, 5, 6]), 1)[0]\n",
    "r = random.randint(0, 255)\n",
    "print(r)"
   ]
  },
  {
   "cell_type": "code",
   "execution_count": 13,
   "metadata": {},
   "outputs": [
    {
     "name": "stdout",
     "output_type": "stream",
     "text": [
      "32\n"
     ]
    }
   ],
   "source": [
    "a=[12,'+',10,'*',2]\n",
    "print(eval(''.join([str(i) for i in a])))"
   ]
  },
  {
   "cell_type": "code",
   "execution_count": null,
   "metadata": {},
   "outputs": [],
   "source": []
  }
 ],
 "metadata": {
  "kernelspec": {
   "display_name": "Test",
   "language": "python",
   "name": "test"
  },
  "language_info": {
   "codemirror_mode": {
    "name": "ipython",
    "version": 3
   },
   "file_extension": ".py",
   "mimetype": "text/x-python",
   "name": "python",
   "nbconvert_exporter": "python",
   "pygments_lexer": "ipython3",
   "version": "3.10.4"
  }
 },
 "nbformat": 4,
 "nbformat_minor": 4
}
