{
 "metadata": {
  "language_info": {
   "codemirror_mode": {
    "name": "ipython",
    "version": 3
   },
   "file_extension": ".py",
   "mimetype": "text/x-python",
   "name": "python",
   "nbconvert_exporter": "python",
   "pygments_lexer": "ipython3",
   "version": "3.8.2-final"
  },
  "orig_nbformat": 2,
  "kernelspec": {
   "name": "python3",
   "display_name": "Python 3.8.2 64-bit",
   "metadata": {
    "interpreter": {
     "hash": "4eaf1be304415beee96765ae99c3f893cc8312c7f1196698e6029668e9aeb3e5"
    }
   }
  }
 },
 "nbformat": 4,
 "nbformat_minor": 2,
 "cells": [
  {
   "cell_type": "code",
   "execution_count": 1,
   "metadata": {},
   "outputs": [],
   "source": [
    "#文件读写\n",
    "fp=open('D:/test.txt','w')\n",
    "print('孙重豪永远是第一！！！',file=fp)\n",
    "fp.close()"
   ]
  },
  {
   "cell_type": "code",
   "execution_count": 2,
   "metadata": {},
   "outputs": [],
   "source": [
    "with open('D:/test1.txt','w') as file:\n",
    "    file.write('孙重豪永远是第一！！！')"
   ]
  },
  {
   "cell_type": "code",
   "execution_count": 4,
   "metadata": {},
   "outputs": [
    {
     "output_type": "stream",
     "name": "stdout",
     "text": [
      "['中国\\n', '美丽']\n"
     ]
    }
   ],
   "source": [
    "file=open('b.txt','r')\n",
    "print(file.readlines())\n",
    "file.close()"
   ]
  },
  {
   "cell_type": "code",
   "execution_count": 12,
   "metadata": {},
   "outputs": [],
   "source": [
    "file=open('a.txt','a')\n",
    "file.write('你好世界！')\n",
    "file.close()"
   ]
  },
  {
   "cell_type": "code",
   "execution_count": 13,
   "metadata": {},
   "outputs": [],
   "source": [
    "f1=open('中南大学.png','rb')\n",
    "f2=open('中南大学copy.png','wb')\n",
    "f2.write(f1.read())\n",
    "f1.close()\n",
    "f2.close()"
   ]
  },
  {
   "cell_type": "code",
   "execution_count": 14,
   "metadata": {},
   "outputs": [
    {
     "output_type": "stream",
     "name": "stdout",
     "text": [
      "你好世界！你好世界！你好世界！你好世界！\n你好世界！你好世界！你好世界！你好世界！\n"
     ]
    }
   ],
   "source": [
    "with open('a.txt','r') as f:\n",
    "    print(f.read())"
   ]
  },
  {
   "cell_type": "code",
   "execution_count": 67,
   "metadata": {},
   "outputs": [
    {
     "output_type": "stream",
     "name": "stdout",
     "text": [
      "c:\\Users\\szh\\Desktop\\szh\\Python test\n['.vscode', '1. 爬取豆瓣TOP250电影清单.py', '2. 爬取并计算特定地区Python工资水平.py', '3. 比较「万集科技」和「茅台」的股票关键指标.py', 'a.txt', 'b.TXT', 'cnn分类器.py', 'data', 'hello.py', 'pachong.ipynb', 'plot.ipynb', 'pytorch基础数学运算.py', 'test1.ipynb', 'test2.ipynb', 'test3.ipynb', 'test4.ipynb', 'test5.ipynb', 'test6.ipynb', 'test7.ipynb', 'test8.ipynb', 'test9.ipynb', '中南大学.png', '中南大学copy.png', '分步建立神经网络.py', '猎聘职位信息表.xlsx']\n"
     ]
    }
   ],
   "source": [
    "#os模块\n",
    "import os\n",
    "#os.system('notepad.exe')\n",
    "#os.system('calc.exe')\n",
    "#os.system('cmd.exe')\n",
    "#os.startfile('D:\\\\Program Files\\\\Tencent\\\\QQ\\\\Bin\\\\qq.exe')\n",
    "print(os.getcwd())\n",
    "print(os.listdir('..\\Python test'))#遍历当前目录"
   ]
  },
  {
   "cell_type": "code",
   "execution_count": 70,
   "metadata": {},
   "outputs": [
    {
     "output_type": "stream",
     "name": "stdout",
     "text": [
      "D:\\python.py\n('D:\\\\', 'python.py')\n('D:\\\\python', '.py')\npython.py\nD:\\\nFalse\nTrue\n"
     ]
    }
   ],
   "source": [
    "import os.path\n",
    "print(os.path.join('D:\\\\','python.py'))\n",
    "print(os.path.split('D:\\\\python.py'))\n",
    "print(os.path.splitext('D:\\\\python.py'))\n",
    "print(os.path.basename('D:\\\\python.py'))\n",
    "print(os.path.dirname('D:\\\\python.py'))\n",
    "print(os.path.isdir('D:\\\\python.py'))\n",
    "print(os.path.isdir('D:\\\\python'))"
   ]
  },
  {
   "cell_type": "code",
   "execution_count": 44,
   "metadata": {},
   "outputs": [
    {
     "output_type": "stream",
     "name": "stdout",
     "text": [
      "pachong.ipynb\nplot.ipynb\ntest1.ipynb\ntest2.ipynb\ntest3.ipynb\ntest4.ipynb\ntest5.ipynb\ntest6.ipynb\ntest7.ipynb\ntest8.ipynb\ntest9.ipynb\n"
     ]
    }
   ],
   "source": [
    "import os\n",
    "path=os.getcwd()\n",
    "lst=os.listdir(path)\n",
    "for s in lst:\n",
    "   if s.endswith('.ipynb'):\n",
    "        print(s)"
   ]
  },
  {
   "cell_type": "code",
   "execution_count": 45,
   "metadata": {},
   "outputs": [
    {
     "output_type": "stream",
     "name": "stdout",
     "text": [
      "c:\\Users\\szh\\Desktop\\szh\\Python test\n['.vscode', 'data']\n['1. 爬取豆瓣TOP250电影清单.py', '2. 爬取并计算特定地区Python工资水平.py', '3. 比较「万集科技」和「茅台」的股票关键指标.py', 'a.txt', 'b.TXT', 'cnn分类器.py', 'hello.py', 'pachong.ipynb', 'plot.ipynb', 'pytorch基础数学运算.py', 'test1.ipynb', 'test2.ipynb', 'test3.ipynb', 'test4.ipynb', 'test5.ipynb', 'test6.ipynb', 'test7.ipynb', 'test8.ipynb', 'test9.ipynb', '中南大学.png', '中南大学copy.png', '分步建立神经网络.py', '猎聘职位信息表.xlsx']\n----------------------------\nc:\\Users\\szh\\Desktop\\szh\\Python test\\.vscode\n[]\n['settings.json']\n----------------------------\nc:\\Users\\szh\\Desktop\\szh\\Python test\\data\n['cifar-10-batches-py']\n['cifar-10-python.tar.gz']\n----------------------------\nc:\\Users\\szh\\Desktop\\szh\\Python test\\data\\cifar-10-batches-py\n[]\n['batches.meta', 'data_batch_1', 'data_batch_2', 'data_batch_3', 'data_batch_4', 'data_batch_5', 'readme.html', 'test_batch']\n----------------------------\n"
     ]
    }
   ],
   "source": [
    "import os\n",
    "path=os.getcwd()\n",
    "lst=os.walk(path)#遍历当前目录的所有文件\n",
    "for a,b,c in lst:\n",
    "    print(a)\n",
    "    print(b)\n",
    "    print(c)\n",
    "    print('----------------------------')"
   ]
  },
  {
   "cell_type": "code",
   "execution_count": null,
   "metadata": {},
   "outputs": [],
   "source": []
  }
 ]
}