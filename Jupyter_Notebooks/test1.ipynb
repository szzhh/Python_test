{
 "metadata": {
  "language_info": {
   "codemirror_mode": {
    "name": "ipython",
    "version": 3
   },
   "file_extension": ".py",
   "mimetype": "text/x-python",
   "name": "python",
   "nbconvert_exporter": "python",
   "pygments_lexer": "ipython3",
   "version": "3.8.5-final"
  },
  "orig_nbformat": 2,
  "kernelspec": {
   "name": "python3",
   "display_name": "Python 3",
   "language": "python"
  }
 },
 "nbformat": 4,
 "nbformat_minor": 2,
 "cells": [
  {
   "cell_type": "code",
   "execution_count": 1,
   "metadata": {},
   "outputs": [
    {
     "output_type": "stream",
     "name": "stdout",
     "text": [
      "2416437783312\n<class 'str'>\n孙重豪\n"
     ]
    }
   ],
   "source": [
    "name='孙重豪'\n",
    "print(id(name))\n",
    "print(type(name))\n",
    "print(name)"
   ]
  },
  {
   "cell_type": "code",
   "execution_count": 2,
   "metadata": {},
   "outputs": [
    {
     "output_type": "stream",
     "name": "stdout",
     "text": [
      "3.3000000000000003\n3.2\n4.300000000000001\n3.3\n"
     ]
    }
   ],
   "source": [
    "n1=1.1\n",
    "n2=2.2\n",
    "n3=2.1\n",
    "print(n1+n2)\n",
    "print(n1+n3)\n",
    "print(n2+n3)\n",
    "from decimal import Decimal\n",
    "print(Decimal('1.1')+Decimal('2.2')) "
   ]
  },
  {
   "cell_type": "code",
   "execution_count": 3,
   "metadata": {},
   "outputs": [
    {
     "output_type": "stream",
     "name": "stdout",
     "text": [
      "2 <class 'bool'>\n1 <class 'bool'>\n"
     ]
    }
   ],
   "source": [
    "print(True+1,type(True))\n",
    "print(False+1,type(False))"
   ]
  },
  {
   "cell_type": "code",
   "execution_count": 4,
   "metadata": {},
   "outputs": [
    {
     "output_type": "stream",
     "name": "stdout",
     "text": [
      "a+b= 5\n"
     ]
    }
   ],
   "source": [
    "a=input('a=')\n",
    "b=input('b=')\n",
    "c=int(a)+int(b)\n",
    "print('a+b=',c)"
   ]
  },
  {
   "source": [
    "print(9//-4)\n",
    "print(-9//4)\n",
    "print(9%-4)\n",
    "print(-9%4)"
   ],
   "cell_type": "code",
   "metadata": {},
   "execution_count": 5,
   "outputs": [
    {
     "output_type": "stream",
     "name": "stdout",
     "text": [
      "-3\n-3\n-3\n3\n"
     ]
    }
   ]
  },
  {
   "cell_type": "code",
   "execution_count": 6,
   "metadata": {},
   "outputs": [
    {
     "output_type": "stream",
     "name": "stdout",
     "text": [
      "a= 10\nb= 20\na= 20\nb= 10\n"
     ]
    }
   ],
   "source": [
    "a=10\n",
    "b=20\n",
    "print('a=',a)\n",
    "print('b=',b)\n",
    "a,b=b,a\n",
    "print('a=',a)\n",
    "print('b=',b)"
   ]
  },
  {
   "cell_type": "code",
   "execution_count": 7,
   "metadata": {},
   "outputs": [
    {
     "output_type": "stream",
     "name": "stdout",
     "text": [
      "True\nTrue\nFalse\n"
     ]
    }
   ],
   "source": [
    "a,b=10,10\n",
    "print(a==b)\n",
    "print(a is b)\n",
    "print(a is not b)"
   ]
  },
  {
   "cell_type": "code",
   "execution_count": 8,
   "metadata": {},
   "outputs": [
    {
     "output_type": "stream",
     "name": "stdout",
     "text": [
      "True\nFalse\nTrue\n2416438109760\n2416438109568\n"
     ]
    }
   ],
   "source": [
    "list1=[1,2,3,4]\n",
    "list2=[1,2,3,4]\n",
    "print(list1==list2)#比较值\n",
    "print(list1 is list2)#比较标识符\n",
    "print(list1 is not list2)\n",
    "print(id(list1))\n",
    "print(id(list2))"
   ]
  },
  {
   "cell_type": "code",
   "execution_count": 9,
   "metadata": {},
   "outputs": [
    {
     "output_type": "stream",
     "name": "stdout",
     "text": [
      "0\n12\n1024\n1\n"
     ]
    }
   ],
   "source": [
    "print(4&8)\n",
    "print(4|8)\n",
    "print(4<<8)\n",
    "print(4>>2)"
   ]
  },
  {
   "cell_type": "code",
   "execution_count": null,
   "metadata": {},
   "outputs": [],
   "source": []
  }
 ]
}