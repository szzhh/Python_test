{
 "metadata": {
  "language_info": {
   "codemirror_mode": {
    "name": "ipython",
    "version": 3
   },
   "file_extension": ".py",
   "mimetype": "text/x-python",
   "name": "python",
   "nbconvert_exporter": "python",
   "pygments_lexer": "ipython3",
   "version": "3.8.5-final"
  },
  "orig_nbformat": 2,
  "kernelspec": {
   "name": "python3",
   "display_name": "Python 3",
   "language": "python"
  }
 },
 "nbformat": 4,
 "nbformat_minor": 2,
 "cells": [
  {
   "cell_type": "code",
   "execution_count": 2,
   "metadata": {},
   "outputs": [
    {
     "output_type": "stream",
     "name": "stdout",
     "text": [
      "{'张三': 100, '李四': 95, '王五': 50}    <class 'dict'>\n"
     ]
    }
   ],
   "source": [
    "scores={'张三':100,'李四':95,'王五':50}\n",
    "print(scores,'  ',type(scores))"
   ]
  },
  {
   "cell_type": "code",
   "execution_count": 3,
   "metadata": {},
   "outputs": [
    {
     "output_type": "stream",
     "name": "stdout",
     "text": [
      "{'name': '孙重豪', 'age': 20}    <class 'dict'>\n"
     ]
    }
   ],
   "source": [
    "szh=dict(name='孙重豪',age=20)\n",
    "print(szh,'  ',type(szh))"
   ]
  },
  {
   "cell_type": "code",
   "execution_count": 10,
   "metadata": {},
   "outputs": [
    {
     "output_type": "stream",
     "name": "stdout",
     "text": [
      "100\n100\n99\n"
     ]
    }
   ],
   "source": [
    "scores={'张三':100,'李四':95,'王五':50}\n",
    "print(scores['张三'])\n",
    "#print(scores['szh'])\n",
    "print(scores.get('张三'))\n",
    "print(scores.get('szh',99))"
   ]
  },
  {
   "cell_type": "code",
   "execution_count": 17,
   "metadata": {},
   "outputs": [
    {
     "output_type": "stream",
     "name": "stdout",
     "text": [
      "{'李四': 95, '王五': 50}\n{'李四': 95, '王五': 50, '孙重豪': 100}\n"
     ]
    }
   ],
   "source": [
    "scores={'张三':100,'李四':95,'王五':50}\n",
    "del scores['张三']\n",
    "#scores.clear()\n",
    "print(scores)\n",
    "scores['孙重豪']=100\n",
    "print(scores)"
   ]
  },
  {
   "cell_type": "code",
   "execution_count": 22,
   "metadata": {},
   "outputs": [
    {
     "output_type": "stream",
     "name": "stdout",
     "text": [
      "dict_keys(['张三', '李四', '王五'])\n['张三', '李四', '王五']\ndict_values([100, 95, 50])\n[100, 95, 50]\ndict_items([('张三', 100), ('李四', 95), ('王五', 50)])\n[('张三', 100), ('李四', 95), ('王五', 50)]\n"
     ]
    }
   ],
   "source": [
    "scores={'张三':100,'李四':95,'王五':50}\n",
    "key=scores.keys()\n",
    "print(keys)\n",
    "print(list(key))\n",
    "value=scores.values()\n",
    "print(value)\n",
    "print(list(value))\n",
    "item=scores.items()\n",
    "print(item)\n",
    "print(list(item))"
   ]
  },
  {
   "cell_type": "code",
   "execution_count": 25,
   "metadata": {},
   "outputs": [
    {
     "output_type": "stream",
     "name": "stdout",
     "text": [
      "张三 100 100\n李四 95 95\n王五 50 50\n"
     ]
    }
   ],
   "source": [
    "scores={'张三':100,'李四':95,'王五':50}\n",
    "for item in scores:\n",
    "    print(item,scores[item],scores.get(item))"
   ]
  },
  {
   "cell_type": "code",
   "execution_count": 29,
   "metadata": {},
   "outputs": [
    {
     "output_type": "stream",
     "name": "stdout",
     "text": [
      "{'name': '李四'}\n{'name': '张三', 'nickname': '张三'}\n"
     ]
    }
   ],
   "source": [
    "dic={'name':'张三','name':'李四'}\n",
    "print(dic)\n",
    "dic={'name':'张三','nickname':'张三'}\n",
    "print(dic)"
   ]
  },
  {
   "cell_type": "code",
   "execution_count": 40,
   "metadata": {},
   "outputs": [
    {
     "output_type": "stream",
     "name": "stdout",
     "text": [
      "[('Fruits', 98), ('Books', 86), ('Others', 75)]\n{'Fruits': 98, 'Books': 86, 'Others': 75}\n"
     ]
    }
   ],
   "source": [
    "items=['Fruits','Books','Others']\n",
    "prices=[98,86,75]\n",
    "lst=zip(items,prices)\n",
    "print(list(lst))\n",
    "dic={item:price for item,price in zip(items,prices)}\n",
    "print(dic)"
   ]
  },
  {
   "cell_type": "code",
   "execution_count": 41,
   "metadata": {},
   "outputs": [
    {
     "output_type": "stream",
     "name": "stdout",
     "text": [
      "{'Fruits': 98, 'Books': 86, 'Others': 75}\n"
     ]
    }
   ],
   "source": [
    "items=['Fruits','Books','Others']\n",
    "prices=[98,86,75]\n",
    "dic=dict(zip(items,prices))\n",
    "print(dic)"
   ]
  },
  {
   "cell_type": "code",
   "execution_count": 46,
   "metadata": {},
   "outputs": [
    {
     "output_type": "stream",
     "name": "stdout",
     "text": [
      "('python', 'world', 98)    <class 'tuple'>    1644615754432\n('python', 'world', 98)    <class 'tuple'>    1644625186432\n"
     ]
    }
   ],
   "source": [
    "#元组的创建方式\n",
    "t=('python','world',98)\n",
    "print(t,'  ',type(t),'  ',id(t))\n",
    "t1=tuple(('python','world',98))\n",
    "print(t1,'  ',type(t1),'  ',id(t1))"
   ]
  },
  {
   "cell_type": "code",
   "execution_count": 51,
   "metadata": {},
   "outputs": [
    {
     "output_type": "stream",
     "name": "stdout",
     "text": [
      "(10, [20, 30], 9)   10   [20, 30]   9\n(10, [20, 30, 40], 9)   10   [20, 30, 40]   9\n"
     ]
    }
   ],
   "source": [
    "t=(10,[20,30],9)\n",
    "print(t,' ',t[0],' ',t[1],' ',t[2])\n",
    "t[1].append(40)\n",
    "print(t,' ',t[0],' ',t[1],' ',t[2])"
   ]
  },
  {
   "cell_type": "code",
   "execution_count": 52,
   "metadata": {},
   "outputs": [
    {
     "output_type": "stream",
     "name": "stdout",
     "text": [
      "python\tworld\t98\t"
     ]
    }
   ],
   "source": [
    "t=('python','world',98)\n",
    "for item in t:\n",
    "    print(item,end='\\t')"
   ]
  },
  {
   "cell_type": "code",
   "execution_count": null,
   "metadata": {},
   "outputs": [],
   "source": []
  }
 ]
}