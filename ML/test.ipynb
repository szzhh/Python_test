{
 "cells": [
  {
   "cell_type": "code",
   "execution_count": 2,
   "metadata": {},
   "outputs": [
    {
     "name": "stdout",
     "output_type": "stream",
     "text": [
      "[[1 2 3 5 6 7 5 6 7]\n",
      " [3 4 6 7 8 9 7 8 9]]\n",
      "[[ 6  8 10]\n",
      " [10 12 15]]\n",
      "[[5 6 7]\n",
      " [7 8 9]]\n",
      "[0 1]\n"
     ]
    }
   ],
   "source": [
    "import numpy as np\n",
    "A=np.array([[1,2,3],[3,4,6]])\n",
    "B=np.array([[5,6,7],[7,8,9]])\n",
    "print(np.concatenate((A,B,B),axis=1))\n",
    "print(A+B)\n",
    "print(B)\n",
    "C=A[:,0]>2\n",
    "C=C.astype(np.int64)\n",
    "print((C))"
   ]
  },
  {
   "cell_type": "code",
   "execution_count": 10,
   "metadata": {},
   "outputs": [
    {
     "name": "stdout",
     "output_type": "stream",
     "text": [
      "[0. 0.]\n"
     ]
    }
   ],
   "source": [
    "C=np.c_[A,B]\n",
    "D=np.zeros(len(C))\n",
    "print(D)"
   ]
  },
  {
   "cell_type": "code",
   "execution_count": 12,
   "metadata": {},
   "outputs": [
    {
     "name": "stdout",
     "output_type": "stream",
     "text": [
      "[2 2 1]\n"
     ]
    }
   ],
   "source": [
    "print(np.random.randint(0,3,3))"
   ]
  },
  {
   "cell_type": "code",
   "execution_count": 1,
   "metadata": {},
   "outputs": [
    {
     "name": "stdout",
     "output_type": "stream",
     "text": [
      "[ True False]\n",
      "[1 0]\n"
     ]
    }
   ],
   "source": [
    "import numpy as np\n",
    "a = np.array([True, False])\n",
    "print(a)\n",
    "print(a + 0)"
   ]
  },
  {
   "cell_type": "code",
   "execution_count": 14,
   "metadata": {},
   "outputs": [
    {
     "name": "stdout",
     "output_type": "stream",
     "text": [
      "[0. 0. 0. 0. 0. 0. 0. 0. 0. 0. 0. 0. 0. 0. 0. 0. 0.]\n"
     ]
    }
   ],
   "source": [
    "print(np.zeros(17))"
   ]
  },
  {
   "cell_type": "code",
   "execution_count": 2,
   "metadata": {},
   "outputs": [
    {
     "name": "stdout",
     "output_type": "stream",
     "text": [
      "[0, 1, 0, 0]\n"
     ]
    }
   ],
   "source": [
    "A=[0,0,0,0]\n",
    "A[1]=1\n",
    "print(A)"
   ]
  },
  {
   "cell_type": "code",
   "execution_count": null,
   "metadata": {},
   "outputs": [],
   "source": []
  }
 ],
 "metadata": {
  "interpreter": {
   "hash": "dc27602090462304dd3f86372efd19e69b7030eadfbaca8857bfdb0924f069a2"
  },
  "kernelspec": {
   "display_name": "Python 3.8.5 64-bit ('szh': conda)",
   "language": "python",
   "name": "python3"
  },
  "language_info": {
   "codemirror_mode": {
    "name": "ipython",
    "version": 3
   },
   "file_extension": ".py",
   "mimetype": "text/x-python",
   "name": "python",
   "nbconvert_exporter": "python",
   "pygments_lexer": "ipython3",
   "version": "3.8.5"
  },
  "orig_nbformat": 4
 },
 "nbformat": 4,
 "nbformat_minor": 2
}
