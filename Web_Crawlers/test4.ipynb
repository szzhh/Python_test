{
 "cells": [
  {
   "cell_type": "code",
   "execution_count": 1,
   "metadata": {},
   "outputs": [],
   "source": [
    "import requests\n",
    "from bs4 import BeautifulSoup\n",
    "import re"
   ]
  },
  {
   "cell_type": "code",
   "execution_count": 11,
   "metadata": {},
   "outputs": [],
   "source": [
    "kv = {'User-Agent':'Mozilla/5.0 (Windows NT 10.0; Win64; x64) AppleWebKit/537.36 (KHTML, like Gecko) Chrome/78.0.3904.108 Safari/537.36'}\n",
    "\n",
    "url = 'https://movie.douban.com/subject/1300992/'\n",
    "r = requests.get(url, headers = kv)\n",
    "# r.encoding = r.apparent_encoding"
   ]
  },
  {
   "cell_type": "code",
   "execution_count": 12,
   "metadata": {},
   "outputs": [
    {
     "data": {
      "text/plain": [
       "200"
      ]
     },
     "execution_count": 12,
     "metadata": {},
     "output_type": "execute_result"
    }
   ],
   "source": [
    "r.status_code"
   ]
  },
  {
   "cell_type": "code",
   "execution_count": 13,
   "metadata": {},
   "outputs": [],
   "source": [
    "soup = BeautifulSoup(r.text, \"html.parser\")"
   ]
  },
  {
   "cell_type": "code",
   "execution_count": null,
   "metadata": {},
   "outputs": [],
   "source": [
    "print(soup.prettify())"
   ]
  },
  {
   "cell_type": "code",
   "execution_count": 14,
   "metadata": {},
   "outputs": [
    {
     "data": {
      "text/plain": [
       "'单亲孩子菲利普·佩里（T·J·劳瑟T.J.Lowther饰）的母亲对他管教甚严，8岁的小菲利普甚至从未参加过一次鬼节讨糖果的游戏。附近州监狱的两名罪犯越狱成功，劫持了菲利普作为人质，向德州边界逃窜。途中，罪犯之一的布奇（凯文·科斯特纳KevinCostner饰）干掉了鲁莽愚蠢的同伙，却对小菲利普照顾有加。与此同时，德州警探瑞德（克林特·伊斯特伍德ClintEastwood饰）带着手下和州长特派的犯罪专家萨利（劳拉·邓恩LauraDern饰）一同火速追捕布奇。双方在德克萨斯州境内展开了一场公路赛大竞技；而小菲利普也经历了很多从未想过过的刺激与快乐，并与布奇产生了一种近似父子的不寻常感情……'"
      ]
     },
     "execution_count": 14,
     "metadata": {},
     "output_type": "execute_result"
    }
   ],
   "source": [
    "''.join(soup.find('span',property=\"v:summary\").text.split())"
   ]
  },
  {
   "cell_type": "code",
   "execution_count": 47,
   "metadata": {},
   "outputs": [
    {
     "data": {
      "text/plain": [
       "20"
      ]
     },
     "execution_count": 47,
     "metadata": {},
     "output_type": "execute_result"
    }
   ],
   "source": [
    "lst=[]\n",
    "for sp in soup.find_all('div',class_=\"comment\"):\n",
    "    short = sp.find('span',class_=\"short\").text.replace('\\r\\n','')\n",
    "    star = re.findall(r'star\\d{1}0', str(sp))[0][-2]\n",
    "    lst.append([short,star])\n",
    "len(lst)"
   ]
  },
  {
   "cell_type": "code",
   "execution_count": 32,
   "metadata": {},
   "outputs": [
    {
     "name": "stdout",
     "output_type": "stream",
     "text": [
      "https://movie.douban.com/subject/1292052/comments?start=0&limit=20&status=P&sort=new_score\n",
      "https://movie.douban.com/subject/1292052/comments?start=20&limit=20&status=P&sort=new_score\n",
      "https://movie.douban.com/subject/1292052/comments?start=40&limit=20&status=P&sort=new_score\n",
      "https://movie.douban.com/subject/1292052/comments?start=60&limit=20&status=P&sort=new_score\n",
      "https://movie.douban.com/subject/1292052/comments?start=80&limit=20&status=P&sort=new_score\n"
     ]
    }
   ],
   "source": [
    "link='https://movie.douban.com/subject/1292052/'\n",
    "for i in range(5):\n",
    "    url = link+'comments?start={}&limit=20&status=P&sort=new_score'.format(i*20)\n",
    "    print(url)"
   ]
  },
  {
   "cell_type": "code",
   "execution_count": 18,
   "metadata": {},
   "outputs": [
    {
     "name": "stdout",
     "output_type": "stream",
     "text": [
      "[['我只杀过两个人，一个伤害了我妈妈，一个伤害了你', '5'], ['他看见他，他带走他，就像带走童年的自己。他终于相信这个世界有鬼了，眼前这个开枪打伤他的小鬼就是童年自己的鬼魅。“再见，这是完美之旅。”再见，布奇。', '5'], ['他杀过人，却未动手打过一下菲利普，这段通往地狱的旅行过程中，当他看到妈妈因为怕孩子把新车弄脏而打骂孩子；爷爷嫌孙子动作慢而对孙子抬手耳刮子时，眼底的愤怒与不屑、憎恨与仇视，皆因他拥有一个对任何人都拳脚相加的父亲。这段近似父子的不寻常感情在影片结尾得到升华，我亦哭得稀里哗啦！', '5'], ['遥远的记忆啊……每次看的时候都想如果Kevin要我做人质，一定张开双手欢迎，然后收紧两臂学足无尾熊的样子抱住他的大腿死都不放。有他当爹，再有Eastwood当爷爷，就是一个perfect world了。肚腩长在有些人身上莫名地就成了一块萌肉', '5'], ['史上最泪奔斯德哥尔摩综合征。我这辈子只杀过两个人，一个伤害了我妈妈一个伤害了你。情感创伤带来贴心信任，一对陌生人手拉手踏上没有希望看不到终点的迷途，Butch对Buzz的每一个小动作，摸摸头，拍拍屁股，看一眼心就化了~满满的父爱，已哭瞎。20171111小西天二刷依然哭到抽……', '5'], ['将公路片、伦理片、警匪片等诸多片种熔于一炉，适应了当代美国电影的新趋向———类型交汇。于是，有了修正型公路片一说。', '5'], ['灵魂在天上 看着绿草如茵的地方……', '5'], ['哭了 小孩可爱，大叔也很会煽情，烂漫的骨子里还有一颗梦想的心', '5'], ['标准的好莱坞煽情之作，坏人的好总是比好人的好来得更感人~~', '4'], ['我童年时期最刻骨铭心的电影,今天终于找到了', '5'], ['母亲以爱之名绑架孩子，罪犯却以绑架之名解放孩子，大晚上看完心里有些酸酸的~', '4'], [\"斯德哥尔摩综合症-Phillip 'Buzz' Perry \", '4'], ['我这辈子只杀过两个人，一个是伤害我妈妈的人，一个是伤害你的人。这个“你”却是仅仅相识一天的男孩。。同样缺失父爱的两人以这种方式依赖对方。特别安静特别可爱的男孩，以后也要给我孩子穿这样的连体衣！太萌了！', '4'], ['母亲因家庭拮据以爱之名剥夺孩子童年的快乐，男主以绑架之名给予孩子简单的快乐、足够的尊重以及缺失的父爱，真是一个让人又爱又恨的罪犯。讽刺的是西装暴徒狙击手，流氓、自以为是且违抗命令。人民公安大学犯罪心理学专家李玫瑾老师说，很多极端犯罪的根源要追溯到童年时期。有的人用童年治愈一辈子，有的人用一辈子治愈童年。', '5'], ['布奇没得到过的，他让菲利普全得到了', '5'], ['“我们说清楚，偷东西是不好的，……但是如果你特别想要一样东西，但又没钱买的话，你可以悄悄拿一个，这就是例外。”', '5'], ['孩子其实是他的摆渡人，引领他完成这趟逃亡之旅、人生之旅，他没有找到爸爸但是他当了一回爸爸，去保护他的童年。哭的稀里哗啦的。凯文太帅了，孩子太萌了。', '5'], ['万花筒式的导演技能，家庭剧转越狱片转公路片转警匪片，最后结束在一片无名的草地上。每场戏都能看见导演的姿态，批评什么，怀疑什么，相信什么。Laura Dern那声尖叫和极度恐惧的神情，是面对真正暴力时的反应。狙击枪击中躯干中心，只有弹孔，没有鲜血，不容辩驳。九十年代的Clint Eastwood太辉煌了。《不可饶恕》，《完美的世界》，《廊桥遗梦》。Stéphane Delorme所说的作者的Gesture在他的电影里看得一清二楚。或许他的Gesture可以被总结为一个他做过千百次的动作——准备拔枪。往前一步是暴力深渊，往后一步是束手就擒。Gran Torino里他正是以这个Gesture死去。', '5'], ['布奇“我这辈子只杀过两个人，一个伤害了我妈妈一个伤害了你。”射入布奇身躯的两颗子弹，一颗是为教育付出的代价，而一颗是社会的顽疾。布奇身上充斥着亦正亦邪，父亲的缺位却让他比片中任何人都适合当父亲。表面是通缉犯内心却无比柔软，黑暗的理性到来，人类愚蠢地被表面所迷惑，而这便是第二颗子弹的象征含义。警长是拨开云雾看得清本质的人，却无法靠一己之力对抗时代的洪流。这个社会太多的狙击手，为着贯彻自我笃定的正义开枪，却浑然不知自己是何等的愚昧无知。', '5'], ['永远不要有结束', '5']]\n",
      "[['我只杀过两个人，一个伤害了我妈妈，一个伤害了你', '5'], ['他看见他，他带走他，就像带走童年的自己。他终于相信这个世界有鬼了，眼前这个开枪打伤他的小鬼就是童年自己的鬼魅。“再见，这是完美之旅。”再见，布奇。', '5'], ['他杀过人，却未动手打过一下菲利普，这段通往地狱的旅行过程中，当他看到妈妈因为怕孩子把新车弄脏而打骂孩子；爷爷嫌孙子动作慢而对孙子抬手耳刮子时，眼底的愤怒与不屑、憎恨与仇视，皆因他拥有一个对任何人都拳脚相加的父亲。这段近似父子的不寻常感情在影片结尾得到升华，我亦哭得稀里哗啦！', '5'], ['遥远的记忆啊……每次看的时候都想如果Kevin要我做人质，一定张开双手欢迎，然后收紧两臂学足无尾熊的样子抱住他的大腿死都不放。有他当爹，再有Eastwood当爷爷，就是一个perfect world了。肚腩长在有些人身上莫名地就成了一块萌肉', '5'], ['史上最泪奔斯德哥尔摩综合征。我这辈子只杀过两个人，一个伤害了我妈妈一个伤害了你。情感创伤带来贴心信任，一对陌生人手拉手踏上没有希望看不到终点的迷途，Butch对Buzz的每一个小动作，摸摸头，拍拍屁股，看一眼心就化了~满满的父爱，已哭瞎。20171111小西天二刷依然哭到抽……', '5'], ['将公路片、伦理片、警匪片等诸多片种熔于一炉，适应了当代美国电影的新趋向———类型交汇。于是，有了修正型公路片一说。', '5'], ['灵魂在天上 看着绿草如茵的地方……', '5'], ['哭了 小孩可爱，大叔也很会煽情，烂漫的骨子里还有一颗梦想的心', '5'], ['标准的好莱坞煽情之作，坏人的好总是比好人的好来得更感人~~', '4'], ['我童年时期最刻骨铭心的电影,今天终于找到了', '5'], ['母亲以爱之名绑架孩子，罪犯却以绑架之名解放孩子，大晚上看完心里有些酸酸的~', '4'], [\"斯德哥尔摩综合症-Phillip 'Buzz' Perry \", '4'], ['我这辈子只杀过两个人，一个是伤害我妈妈的人，一个是伤害你的人。这个“你”却是仅仅相识一天的男孩。。同样缺失父爱的两人以这种方式依赖对方。特别安静特别可爱的男孩，以后也要给我孩子穿这样的连体衣！太萌了！', '4'], ['母亲因家庭拮据以爱之名剥夺孩子童年的快乐，男主以绑架之名给予孩子简单的快乐、足够的尊重以及缺失的父爱，真是一个让人又爱又恨的罪犯。讽刺的是西装暴徒狙击手，流氓、自以为是且违抗命令。人民公安大学犯罪心理学专家李玫瑾老师说，很多极端犯罪的根源要追溯到童年时期。有的人用童年治愈一辈子，有的人用一辈子治愈童年。', '5'], ['布奇没得到过的，他让菲利普全得到了', '5'], ['“我们说清楚，偷东西是不好的，……但是如果你特别想要一样东西，但又没钱买的话，你可以悄悄拿一个，这就是例外。”', '5'], ['孩子其实是他的摆渡人，引领他完成这趟逃亡之旅、人生之旅，他没有找到爸爸但是他当了一回爸爸，去保护他的童年。哭的稀里哗啦的。凯文太帅了，孩子太萌了。', '5'], ['万花筒式的导演技能，家庭剧转越狱片转公路片转警匪片，最后结束在一片无名的草地上。每场戏都能看见导演的姿态，批评什么，怀疑什么，相信什么。Laura Dern那声尖叫和极度恐惧的神情，是面对真正暴力时的反应。狙击枪击中躯干中心，只有弹孔，没有鲜血，不容辩驳。九十年代的Clint Eastwood太辉煌了。《不可饶恕》，《完美的世界》，《廊桥遗梦》。Stéphane Delorme所说的作者的Gesture在他的电影里看得一清二楚。或许他的Gesture可以被总结为一个他做过千百次的动作——准备拔枪。往前一步是暴力深渊，往后一步是束手就擒。Gran Torino里他正是以这个Gesture死去。', '5'], ['布奇“我这辈子只杀过两个人，一个伤害了我妈妈一个伤害了你。”射入布奇身躯的两颗子弹，一颗是为教育付出的代价，而一颗是社会的顽疾。布奇身上充斥着亦正亦邪，父亲的缺位却让他比片中任何人都适合当父亲。表面是通缉犯内心却无比柔软，黑暗的理性到来，人类愚蠢地被表面所迷惑，而这便是第二颗子弹的象征含义。警长是拨开云雾看得清本质的人，却无法靠一己之力对抗时代的洪流。这个社会太多的狙击手，为着贯彻自我笃定的正义开枪，却浑然不知自己是何等的愚昧无知。', '5'], ['永远不要有结束', '5']]\n"
     ]
    }
   ],
   "source": [
    "link='https://movie.douban.com/subject/1300992/'\n",
    "def getshort(link):\n",
    "    lst=[]\n",
    "    for i in range(1):\n",
    "        kv = {'User-Agent':'Mozilla/5.0 (Windows NT 10.0; Win64; x64) AppleWebKit/537.36 (KHTML, like Gecko) Chrome/78.0.3904.108 Safari/537.36'}\n",
    "        url = link+'comments?start={}&limit=20&status=P&sort=new_score'.format(i*20)\n",
    "        r = requests.get(url, headers = kv)\n",
    "        soup = BeautifulSoup(r.text, \"html.parser\")\n",
    "        for sp in soup.find_all('div',class_=\"comment\"):\n",
    "            short = sp.find('span',class_=\"short\").text.replace('\\n','').replace('\\r','')\n",
    "            star = re.findall(r'star\\d{1}0', str(sp))[0][-2]\n",
    "            lst.append([short,star])\n",
    "    print(str(lst))\n",
    "    return str(lst)\n",
    "print(getshort(link))"
   ]
  },
  {
   "cell_type": "code",
   "execution_count": 59,
   "metadata": {},
   "outputs": [
    {
     "name": "stdout",
     "output_type": "stream",
     "text": [
      "1\n"
     ]
    }
   ],
   "source": [
    "if [1]:\n",
    "    print(1)"
   ]
  },
  {
   "cell_type": "code",
   "execution_count": null,
   "metadata": {},
   "outputs": [],
   "source": []
  }
 ],
 "metadata": {
  "kernelspec": {
   "display_name": "szh",
   "language": "python",
   "name": "python3"
  },
  "language_info": {
   "codemirror_mode": {
    "name": "ipython",
    "version": 3
   },
   "file_extension": ".py",
   "mimetype": "text/x-python",
   "name": "python",
   "nbconvert_exporter": "python",
   "pygments_lexer": "ipython3",
   "version": "3.9.12"
  },
  "orig_nbformat": 4,
  "vscode": {
   "interpreter": {
    "hash": "4fd42711a2e3f996a23cc31e0821bdaf13b16e29b62b2c68c05b3a5213dd0b8a"
   }
  }
 },
 "nbformat": 4,
 "nbformat_minor": 2
}
